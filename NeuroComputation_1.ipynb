{
 "cells": [
  {
   "cell_type": "markdown",
   "metadata": {},
   "source": [
    "# Part A:"
   ]
  },
  {
   "cell_type": "code",
   "execution_count": 1,
   "metadata": {},
   "outputs": [],
   "source": [
    "#libraries\n",
    "import numpy as np \n",
    "import pandas as pd\n",
    "import cv2\n",
    "import seaborn as sns\n",
    "import random\n",
    "\n",
    "#preproccesing\n",
    "from sklearn.metrics import classification_report,f1_score\n",
    "from sklearn.metrics import accuracy_score\n",
    "from sklearn import metrics\n",
    "from sklearn.metrics import confusion_matrix\n",
    "\n",
    "# visulization\n",
    "import matplotlib.pyplot as plt\n",
    "%matplotlib inline\n",
    "\n",
    "import warnings\n",
    "warnings.filterwarnings('ignore')"
   ]
  },
  {
   "cell_type": "markdown",
   "metadata": {},
   "source": [
    "## Building the training data"
   ]
  },
  {
   "cell_type": "code",
   "execution_count": 2,
   "metadata": {},
   "outputs": [],
   "source": [
    "# x = []\n",
    "# y = []\n",
    "# value = []\n",
    "# for i in range(1000):\n",
    "#     randX = random.randint(-10000, 10000)\n",
    "#     randY = random.randint(-10000, 10000)\n",
    "#     x.append(randX/100)\n",
    "#     y.append(randY/100)\n",
    "#     if y[i] > 1:\n",
    "#         value.append(1)\n",
    "#     else:\n",
    "#         value.append(-1)\n",
    "\n",
    "# end = {'x': x, 'y': y, 'value': value}\n",
    "# df= pd.DataFrame(data=end,\n",
    "#                 columns = ['x', 'y', 'value'])"
   ]
  },
  {
   "cell_type": "code",
   "execution_count": 3,
   "metadata": {},
   "outputs": [],
   "source": [
    "# df.to_csv(r'C:\\Users\\talia\\NeuroComputation\\trainingDF.csv', index = False)"
   ]
  },
  {
   "cell_type": "markdown",
   "metadata": {},
   "source": [
    "## Building the first test data"
   ]
  },
  {
   "cell_type": "code",
   "execution_count": 4,
   "metadata": {},
   "outputs": [],
   "source": [
    "# x = []\n",
    "# y = []\n",
    "# value = []\n",
    "# for i in range(1000):\n",
    "#     randX = random.randint(-10000, 10000)\n",
    "#     randY = random.randint(-10000, 10000)\n",
    "#     x.append(randX/100)\n",
    "#     y.append(randY/100)\n",
    "#     if y[i] > 1:\n",
    "#         value.append(1)\n",
    "#     else:\n",
    "#         value.append(-1)\n",
    "\n",
    "# end = {'x': x, 'y': y, 'value': value}\n",
    "# df= pd.DataFrame(data=end,\n",
    "#                 columns = ['x', 'y', 'value'])"
   ]
  },
  {
   "cell_type": "code",
   "execution_count": 5,
   "metadata": {},
   "outputs": [],
   "source": [
    "# df.to_csv(r'C:\\Users\\talia\\NeuroComputation\\firstTestDF.csv', index = False)"
   ]
  },
  {
   "cell_type": "markdown",
   "metadata": {},
   "source": [
    "## Building the second test data"
   ]
  },
  {
   "cell_type": "code",
   "execution_count": 6,
   "metadata": {},
   "outputs": [],
   "source": [
    "# x = []\n",
    "# y = []\n",
    "# value = []\n",
    "# for i in range(1000):\n",
    "#     randX = random.randint(-10000, 10000)\n",
    "#     randY = random.randint(-10000, 10000)\n",
    "#     x.append(randX/100)\n",
    "#     y.append(randY/100)\n",
    "#     if y[i] > 1:\n",
    "#         value.append(1)\n",
    "#     else:\n",
    "#         value.append(-1)\n",
    "\n",
    "# end = {'x': x, 'y': y, 'value': value}\n",
    "# df= pd.DataFrame(data=end,\n",
    "#                 columns = ['x', 'y', 'value'])"
   ]
  },
  {
   "cell_type": "code",
   "execution_count": 7,
   "metadata": {},
   "outputs": [],
   "source": [
    "# df.to_csv(r'C:\\Users\\talia\\NeuroComputation\\secondTestDF.csv', index = False)"
   ]
  },
  {
   "cell_type": "markdown",
   "metadata": {},
   "source": [
    "### DataFrames:"
   ]
  },
  {
   "cell_type": "code",
   "execution_count": 8,
   "metadata": {},
   "outputs": [],
   "source": [
    "train = pd.read_csv(r'C:\\Users\\talia\\NeuroComputation\\trainingDF.csv')\n",
    "first_test = pd.read_csv(r'C:\\Users\\talia\\NeuroComputation\\firstTestDF.csv')\n",
    "second_test = pd.read_csv(r'C:\\Users\\talia\\NeuroComputation\\secondTestDF.csv')"
   ]
  },
  {
   "cell_type": "code",
   "execution_count": 9,
   "metadata": {},
   "outputs": [
    {
     "data": {
      "text/plain": [
       "<matplotlib.axes._subplots.AxesSubplot at 0x1a405edaf40>"
      ]
     },
     "execution_count": 9,
     "metadata": {},
     "output_type": "execute_result"
    },
    {
     "data": {
      "image/png": "[encoded data removed]",
      "text/plain": [
       "<Figure size 432x432 with 1 Axes>"
      ]
     },
     "metadata": {
      "needs_background": "light"
     },
     "output_type": "display_data"
    }
   ],
   "source": [
    "plt.figure(figsize = (6,6))\n",
    "sns.countplot(x = \"value\", data = train)"
   ]
  },
  {
   "cell_type": "code",
   "execution_count": 10,
   "metadata": {},
   "outputs": [
    {
     "data": {
      "text/plain": [
       "<matplotlib.axes._subplots.AxesSubplot at 0x1a40b693880>"
      ]
     },
     "execution_count": 10,
     "metadata": {},
     "output_type": "execute_result"
    },
    {
     "data": {
      "image/png": "[encoded data removed]",
      "text/plain": [
       "<Figure size 432x432 with 1 Axes>"
      ]
     },
     "metadata": {
      "needs_background": "light"
     },
     "output_type": "display_data"
    }
   ],
   "source": [
    "plt.figure(figsize = (6,6))\n",
    "sns.countplot(x = \"value\", data = first_test)"
   ]
  },
  {
   "cell_type": "code",
   "execution_count": 11,
   "metadata": {},
   "outputs": [
    {
     "data": {
      "text/plain": [
       "<matplotlib.axes._subplots.AxesSubplot at 0x1a40b6e1820>"
      ]
     },
     "execution_count": 11,
     "metadata": {},
     "output_type": "execute_result"
    },
    {
     "data": {
      "image/png": "[encoded data removed]",
      "text/plain": [
       "<Figure size 432x432 with 1 Axes>"
      ]
     },
     "metadata": {
      "needs_background": "light"
     },
     "output_type": "display_data"
    }
   ],
   "source": [
    "plt.figure(figsize = (6,6))\n",
    "sns.countplot(x = \"value\", data = second_test)"
   ]
  },
  {
   "cell_type": "markdown",
   "metadata": {},
   "source": [
    "## Adaline Algorithm:"
   ]
  },
  {
   "cell_type": "code",
   "execution_count": 106,
   "metadata": {},
   "outputs": [],
   "source": [
    "def weight_genarate():\n",
    "    weight = []\n",
    "    for i in range(2):\n",
    "        random.seed(i)\n",
    "        rand = random.uniform(0, 0.1)\n",
    "        weight.append(rand)\n",
    "        \n",
    "    random.seed(4)\n",
    "    bias = random.uniform(0, 0.1)\n",
    "    return weight, bias"
   ]
  },
  {
   "cell_type": "code",
   "execution_count": 107,
   "metadata": {},
   "outputs": [],
   "source": [
    "# activate \n",
    "def activate(x, y, bias, weight):\n",
    "    return (bias + x*weight[0] + y*weight[1]) "
   ]
  },
  {
   "cell_type": "code",
   "execution_count": 114,
   "metadata": {},
   "outputs": [],
   "source": [
    "# error calculation:    \n",
    "def error_calc(predicted, expected):\n",
    "    error = (expected - predicted) ** 2\n",
    "    return error"
   ]
  },
  {
   "cell_type": "code",
   "execution_count": 119,
   "metadata": {},
   "outputs": [],
   "source": [
    "def adaline_algo(learning_rate, train):\n",
    "    EPS = 0.005\n",
    "    weight, bias = weight_genarate()\n",
    "    \n",
    "    for index, row in train.iterrows():\n",
    "        predicted = activate(row['x'], row['y'], bias, weight)\n",
    "        \n",
    "        # update:\n",
    "        weight[0] = (weight[0] + learning_rate*(row['value'] - predicted)*row['x'])\n",
    "        weight[1] = (weight[1] + learning_rate*(row['value'] - predicted)*row['y'])\n",
    "        bias = bias + learning_rate * (row['value'] - predicted)\n",
    "        \n",
    "        # error calc\n",
    "        error = error_calc(predicted, row['value'])\n",
    "        print(error)\n",
    "        if error <= EPS or error == 0:\n",
    "            break\n",
    "        \n",
    "    return weight, bias"
   ]
  },
  {
   "cell_type": "code",
   "execution_count": 121,
   "metadata": {},
   "outputs": [],
   "source": [
    "# adaline_algo(0.001, train)"
   ]
  },
  {
   "cell_type": "code",
   "execution_count": null,
   "metadata": {},
   "outputs": [],
   "source": []
  },
  {
   "cell_type": "code",
   "execution_count": null,
   "metadata": {},
   "outputs": [],
   "source": []
  },
  {
   "cell_type": "code",
   "execution_count": null,
   "metadata": {},
   "outputs": [],
   "source": []
  }
 ],
 "metadata": {
  "kernelspec": {
   "display_name": "Python 3",
   "language": "python",
   "name": "python3"
  },
  "language_info": {
   "codemirror_mode": {
    "name": "ipython",
    "version": 3
   },
   "file_extension": ".py",
   "mimetype": "text/x-python",
   "name": "python",
   "nbconvert_exporter": "python",
   "pygments_lexer": "ipython3",
   "version": "3.8.3"
  }
 },
 "nbformat": 4,
 "nbformat_minor": 4
}
