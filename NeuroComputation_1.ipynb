{
 "cells": [
  {
   "cell_type": "markdown",
   "metadata": {},
   "source": [
    "# Part A:"
   ]
  },
  {
   "cell_type": "code",
   "execution_count": 1,
   "metadata": {},
   "outputs": [],
   "source": [
    "#libraries\n",
    "import numpy as np \n",
    "import pandas as pd\n",
    "import cv2\n",
    "import seaborn as sns\n",
    "import random\n",
    "\n",
    "#preproccesing\n",
    "from sklearn.metrics import classification_report,f1_score\n",
    "from sklearn.metrics import accuracy_score\n",
    "from sklearn import metrics\n",
    "from sklearn.metrics import confusion_matrix\n",
    "\n",
    "# visulization\n",
    "import matplotlib.pyplot as plt\n",
    "%matplotlib inline\n",
    "\n",
    "import warnings\n",
    "warnings.filterwarnings('ignore')"
   ]
  },
  {
   "cell_type": "markdown",
   "metadata": {},
   "source": [
    "## Building the training data"
   ]
  },
  {
   "cell_type": "code",
   "execution_count": 2,
   "metadata": {},
   "outputs": [],
   "source": [
    "x = []\n",
    "y = []\n",
    "value = []\n",
    "for i in range(1000):\n",
    "    randX = random.randint(-10000, 10000)\n",
    "    randY = random.randint(-10000, 10000)\n",
    "    x.append(randX/100)\n",
    "    y.append(randY/100)\n",
    "    if y[i] > 1:\n",
    "        value.append(1)\n",
    "    else:\n",
    "        value.append(-1)\n",
    "\n",
    "end = {'x': x, 'y': y, 'value': value}\n",
    "df= pd.DataFrame(data=end,\n",
    "                columns = ['x', 'y', 'value'])"
   ]
  },
  {
   "cell_type": "code",
   "execution_count": 3,
   "metadata": {},
   "outputs": [],
   "source": [
    "df.to_csv(r'C:\\Users\\nechd\\Desktop\\trainingDF.csv', index = False)\n"
   ]
  },
  {
   "cell_type": "markdown",
   "metadata": {},
   "source": [
    "## Building the first test data"
   ]
  },
  {
   "cell_type": "code",
   "execution_count": 4,
   "metadata": {},
   "outputs": [],
   "source": [
    "x = []\n",
    "y = []\n",
    "value = []\n",
    "for i in range(1000):\n",
    "    randX = random.randint(-10000, 10000)\n",
    "    randY = random.randint(-10000, 10000)\n",
    "    x.append(randX/100)\n",
    "    y.append(randY/100)\n",
    "    if y[i] > 1:\n",
    "        value.append(1)\n",
    "    else:\n",
    "        value.append(-1)\n",
    "\n",
    "end = {'x': x, 'y': y, 'value': value}\n",
    "df= pd.DataFrame(data=end,\n",
    "                columns = ['x', 'y', 'value'])"
   ]
  },
  {
   "cell_type": "code",
   "execution_count": 5,
   "metadata": {},
   "outputs": [],
   "source": [
    "df.to_csv(r'C:\\Users\\nechd\\Desktop\\firstTestDF.csv', index = False)"
   ]
  },
  {
   "cell_type": "markdown",
   "metadata": {},
   "source": [
    "## Building the second test data"
   ]
  },
  {
   "cell_type": "code",
   "execution_count": 6,
   "metadata": {},
   "outputs": [],
   "source": [
    "x = []\n",
    "y = []\n",
    "value = []\n",
    "for i in range(1000):\n",
    "    randX = random.randint(-10000, 10000)\n",
    "    randY = random.randint(-10000, 10000)\n",
    "    x.append(randX/100)\n",
    "    y.append(randY/100)\n",
    "    if y[i] > 1:\n",
    "        value.append(1)\n",
    "    else:\n",
    "        value.append(-1)\n",
    "\n",
    "end = {'x': x, 'y': y, 'value': value}\n",
    "df= pd.DataFrame(data=end,\n",
    "                columns = ['x', 'y', 'value'])"
   ]
  },
  {
   "cell_type": "code",
   "execution_count": 7,
   "metadata": {},
   "outputs": [],
   "source": [
    "df.to_csv(r'C:\\Users\\nechd\\Desktop\\secondTestDF.csv', index = False)"
   ]
  },
  {
   "cell_type": "markdown",
   "metadata": {},
   "source": [
    "### DataFrames:"
   ]
  },
  {
   "cell_type": "code",
   "execution_count": 8,
   "metadata": {},
   "outputs": [],
   "source": [
    "train = pd.read_csv(r'C:\\Users\\nechd\\Desktop\\trainingDF.csv')\n",
    "first_test = pd.read_csv(r'C:\\Users\\nechd\\Desktop\\firstTestDF.csv')\n",
    "second_test = pd.read_csv(r'C:\\Users\\nechd\\Desktop\\secondTestDF.csv')"
   ]
  },
  {
   "cell_type": "code",
   "execution_count": 9,
   "metadata": {},
   "outputs": [
    {
     "data": {
      "text/plain": [
       "<matplotlib.axes._subplots.AxesSubplot at 0x15fca1d4310>"
      ]
     },
     "execution_count": 9,
     "metadata": {},
     "output_type": "execute_result"
    },
    {
     "data": {
      "image/png": "[encoded data removed]",
      "text/plain": [
       "<Figure size 432x432 with 1 Axes>"
      ]
     },
     "metadata": {
      "needs_background": "light"
     },
     "output_type": "display_data"
    }
   ],
   "source": [
    "plt.figure(figsize = (6,6))\n",
    "sns.countplot(x = \"value\", data = train)"
   ]
  },
  {
   "cell_type": "code",
   "execution_count": 10,
   "metadata": {},
   "outputs": [
    {
     "data": {
      "text/plain": [
       "<matplotlib.axes._subplots.AxesSubplot at 0x15fcfa4d940>"
      ]
     },
     "execution_count": 10,
     "metadata": {},
     "output_type": "execute_result"
    },
    {
     "data": {
      "image/png": "[encoded data removed]",
      "text/plain": [
       "<Figure size 432x432 with 1 Axes>"
      ]
     },
     "metadata": {
      "needs_background": "light"
     },
     "output_type": "display_data"
    }
   ],
   "source": [
    "plt.figure(figsize = (6,6))\n",
    "sns.countplot(x = \"value\", data = first_test)"
   ]
  },
  {
   "cell_type": "code",
   "execution_count": 11,
   "metadata": {},
   "outputs": [
    {
     "data": {
      "text/plain": [
       "<matplotlib.axes._subplots.AxesSubplot at 0x15fcfade370>"
      ]
     },
     "execution_count": 11,
     "metadata": {},
     "output_type": "execute_result"
    },
    {
     "data": {
      "image/png": "[encoded data removed]",
      "text/plain": [
       "<Figure size 432x432 with 1 Axes>"
      ]
     },
     "metadata": {
      "needs_background": "light"
     },
     "output_type": "display_data"
    }
   ],
   "source": [
    "plt.figure(figsize = (6,6))\n",
    "sns.countplot(x = \"value\", data = second_test)"
   ]
  },
  {
   "cell_type": "markdown",
   "metadata": {},
   "source": [
    "## Adaline Algorithm:"
   ]
  },
  {
   "cell_type": "code",
   "execution_count": 12,
   "metadata": {},
   "outputs": [],
   "source": [
    "def weight_genarate():\n",
    "    weight = []\n",
    "    for i in range(2):\n",
    "        random.seed(i)\n",
    "        rand = random.uniform(0, 0.01)\n",
    "        rand=round(rand,4)\n",
    "        weight.append(rand)\n",
    "        \n",
    "    random.seed(4)\n",
    "    bias = random.uniform(0, 1)\n",
    "    bias=round(bias,4)\n",
    "    return weight, bias"
   ]
  },
  {
   "cell_type": "code",
   "execution_count": 13,
   "metadata": {},
   "outputs": [],
   "source": [
    "# activate \n",
    "def activate(x, y, bias, weight):\n",
    "    return (bias + x*weight[0] + y*weight[1]) "
   ]
  },
  {
   "cell_type": "code",
   "execution_count": 14,
   "metadata": {},
   "outputs": [],
   "source": [
    "# error calculation:    \n",
    "def error_calc(predicted, expected):\n",
    "    error = (expected - predicted) ** 2\n",
    "    return error"
   ]
  },
  {
   "cell_type": "code",
   "execution_count": 15,
   "metadata": {},
   "outputs": [],
   "source": [
    "def adaline_algo(learning_rate, train):\n",
    "    EPS = 0.0005\n",
    "    weight, bias = weight_genarate()\n",
    "#     print(weight, bias)\n",
    "    \n",
    "    for index, row in train.iterrows():\n",
    "        predicted = activate(row['x'], row['y'], bias, weight)\n",
    "#         print(\"predicted=\",predicted)\n",
    "        \n",
    "        # update:\n",
    "#         print(\"old weight and bias \", weight, bias)\n",
    "        weight[0] = round((weight[0] + learning_rate*(row['value'] - predicted)*row['x']),3)\n",
    "        weight[1] = round((weight[1] + learning_rate*(row['value'] - predicted)*row['y']),3)\n",
    "        bias = round((bias + learning_rate * (row['value'] - predicted)),3)\n",
    "        \n",
    "#         print(\"new weight and bias \", weight, bias)\n",
    "        \n",
    "        # error calc\n",
    "        error = error_calc(predicted, row['value'])\n",
    "#         print(\"error=\",error)     \n",
    "        if error <= EPS or error == 0:\n",
    "            break\n",
    "#     print()    \n",
    "    return weight, bias"
   ]
  },
  {
   "cell_type": "code",
   "execution_count": 16,
   "metadata": {},
   "outputs": [],
   "source": [
    "# adaline_algo(0.0005, train)"
   ]
  },
  {
   "cell_type": "code",
   "execution_count": 17,
   "metadata": {},
   "outputs": [],
   "source": [
    "def testing(test):\n",
    "    weight, bias=adaline_algo(0.0001,train)\n",
    "    count=0\n",
    "    for index, row in test.iterrows():\n",
    "        prediction =activate(row['x'], row['y'], bias, weight) \n",
    "        if prediction>=0:\n",
    "            prediction=1\n",
    "        else:\n",
    "            prediction=-1\n",
    "        if(prediction==row['value']):\n",
    "            count=count+1\n",
    "    return(count)"
   ]
  },
  {
   "cell_type": "code",
   "execution_count": 18,
   "metadata": {},
   "outputs": [
    {
     "data": {
      "text/plain": [
       "858"
      ]
     },
     "execution_count": 18,
     "metadata": {},
     "output_type": "execute_result"
    }
   ],
   "source": [
    "testing(first_test)"
   ]
  },
  {
   "cell_type": "code",
   "execution_count": 19,
   "metadata": {},
   "outputs": [
    {
     "data": {
      "text/plain": [
       "855"
      ]
     },
     "execution_count": 19,
     "metadata": {},
     "output_type": "execute_result"
    }
   ],
   "source": [
    "testing(second_test)"
   ]
  },
  {
   "cell_type": "code",
   "execution_count": null,
   "metadata": {},
   "outputs": [],
   "source": []
  },
  {
   "cell_type": "code",
   "execution_count": null,
   "metadata": {},
   "outputs": [],
   "source": []
  },
  {
   "cell_type": "code",
   "execution_count": null,
   "metadata": {},
   "outputs": [],
   "source": []
  },
  {
   "cell_type": "code",
   "execution_count": 20,
   "metadata": {},
   "outputs": [],
   "source": [
    "x = []\n",
    "y = []\n",
    "value = []\n",
    "random.seed(9)\n",
    "for i in range(1000):\n",
    "    randX = random.randint(-10000, 10000)\n",
    "    randY = random.randint(-10000, 10000)\n",
    "    x.append(randX/100)\n",
    "    y.append(randY/100)\n",
    "    if y[i] > 1:\n",
    "        value.append(1)\n",
    "    else:\n",
    "        value.append(-1)\n",
    "\n",
    "end = {'x': x, 'y': y, 'value': value}\n",
    "df2= pd.DataFrame(data=end,columns = ['x', 'y', 'value'])"
   ]
  },
  {
   "cell_type": "code",
   "execution_count": 21,
   "metadata": {},
   "outputs": [
    {
     "data": {
      "text/html": [
       "<div>\n",
       "<style scoped>\n",
       "    .dataframe tbody tr th:only-of-type {\n",
       "        vertical-align: middle;\n",
       "    }\n",
       "\n",
       "    .dataframe tbody tr th {\n",
       "        vertical-align: top;\n",
       "    }\n",
       "\n",
       "    .dataframe thead th {\n",
       "        text-align: right;\n",
       "    }\n",
       "</style>\n",
       "<table border=\"1\" class=\"dataframe\">\n",
       "  <thead>\n",
       "    <tr style=\"text-align: right;\">\n",
       "      <th></th>\n",
       "      <th>x</th>\n",
       "      <th>y</th>\n",
       "      <th>value</th>\n",
       "    </tr>\n",
       "  </thead>\n",
       "  <tbody>\n",
       "    <tr>\n",
       "      <th>0</th>\n",
       "      <td>51.71</td>\n",
       "      <td>22.32</td>\n",
       "      <td>1</td>\n",
       "    </tr>\n",
       "    <tr>\n",
       "      <th>1</th>\n",
       "      <td>-12.47</td>\n",
       "      <td>-54.61</td>\n",
       "      <td>-1</td>\n",
       "    </tr>\n",
       "    <tr>\n",
       "      <th>2</th>\n",
       "      <td>-39.01</td>\n",
       "      <td>-97.90</td>\n",
       "      <td>-1</td>\n",
       "    </tr>\n",
       "    <tr>\n",
       "      <th>3</th>\n",
       "      <td>10.86</td>\n",
       "      <td>64.75</td>\n",
       "      <td>1</td>\n",
       "    </tr>\n",
       "    <tr>\n",
       "      <th>4</th>\n",
       "      <td>51.95</td>\n",
       "      <td>98.14</td>\n",
       "      <td>1</td>\n",
       "    </tr>\n",
       "    <tr>\n",
       "      <th>...</th>\n",
       "      <td>...</td>\n",
       "      <td>...</td>\n",
       "      <td>...</td>\n",
       "    </tr>\n",
       "    <tr>\n",
       "      <th>995</th>\n",
       "      <td>-3.12</td>\n",
       "      <td>2.73</td>\n",
       "      <td>1</td>\n",
       "    </tr>\n",
       "    <tr>\n",
       "      <th>996</th>\n",
       "      <td>-65.45</td>\n",
       "      <td>-70.40</td>\n",
       "      <td>-1</td>\n",
       "    </tr>\n",
       "    <tr>\n",
       "      <th>997</th>\n",
       "      <td>84.33</td>\n",
       "      <td>37.81</td>\n",
       "      <td>1</td>\n",
       "    </tr>\n",
       "    <tr>\n",
       "      <th>998</th>\n",
       "      <td>24.54</td>\n",
       "      <td>24.47</td>\n",
       "      <td>1</td>\n",
       "    </tr>\n",
       "    <tr>\n",
       "      <th>999</th>\n",
       "      <td>23.00</td>\n",
       "      <td>-6.98</td>\n",
       "      <td>-1</td>\n",
       "    </tr>\n",
       "  </tbody>\n",
       "</table>\n",
       "<p>1000 rows × 3 columns</p>\n",
       "</div>"
      ],
      "text/plain": [
       "         x      y  value\n",
       "0    51.71  22.32      1\n",
       "1   -12.47 -54.61     -1\n",
       "2   -39.01 -97.90     -1\n",
       "3    10.86  64.75      1\n",
       "4    51.95  98.14      1\n",
       "..     ...    ...    ...\n",
       "995  -3.12   2.73      1\n",
       "996 -65.45 -70.40     -1\n",
       "997  84.33  37.81      1\n",
       "998  24.54  24.47      1\n",
       "999  23.00  -6.98     -1\n",
       "\n",
       "[1000 rows x 3 columns]"
      ]
     },
     "execution_count": 21,
     "metadata": {},
     "output_type": "execute_result"
    }
   ],
   "source": [
    "df2"
   ]
  },
  {
   "cell_type": "code",
   "execution_count": 22,
   "metadata": {},
   "outputs": [
    {
     "data": {
      "text/plain": [
       "864"
      ]
     },
     "execution_count": 22,
     "metadata": {},
     "output_type": "execute_result"
    }
   ],
   "source": [
    "testing(df2)"
   ]
  },
  {
   "cell_type": "code",
   "execution_count": 23,
   "metadata": {},
   "outputs": [],
   "source": [
    "def make_df(i):\n",
    "    x = []\n",
    "    y = []\n",
    "    value = []\n",
    "    random.seed(i)\n",
    "    for i in range(1000):\n",
    "        randX = random.randint(-10000, 10000)\n",
    "        randY = random.randint(-10000, 10000)\n",
    "        x.append(randX/100)\n",
    "        y.append(randY/100)\n",
    "        if y[i] > 1:\n",
    "            value.append(1)\n",
    "        else:\n",
    "            value.append(-1)\n",
    "\n",
    "    end = {'x': x, 'y': y, 'value': value}\n",
    "    df= pd.DataFrame(data=end,columns = ['x', 'y', 'value'])\n",
    "    return df"
   ]
  },
  {
   "cell_type": "code",
   "execution_count": null,
   "metadata": {},
   "outputs": [],
   "source": []
  },
  {
   "cell_type": "code",
   "execution_count": 24,
   "metadata": {},
   "outputs": [
    {
     "name": "stdout",
     "output_type": "stream",
     "text": [
      "[0.844 0.865 0.869 0.856 0.858 0.873 0.848 0.861 0.874 0.852 0.839 0.849\n",
      " 0.84  0.837 0.861 0.856 0.848 0.854 0.842 0.847 0.842 0.851 0.858 0.844\n",
      " 0.851 0.84  0.85  0.848 0.855 0.849 0.814 0.853 0.874 0.866 0.872 0.872\n",
      " 0.871 0.837 0.848 0.867 0.868 0.854 0.862 0.842 0.86  0.855 0.862 0.852\n",
      " 0.847 0.866 0.854 0.855 0.839 0.829 0.86  0.838 0.865 0.857 0.85  0.841\n",
      " 0.85  0.846 0.849 0.849 0.86  0.849 0.864 0.832 0.843 0.849 0.848 0.854\n",
      " 0.849 0.871 0.86  0.863 0.849 0.844 0.848 0.842 0.868 0.865 0.856 0.859\n",
      " 0.836 0.843 0.87  0.845 0.852 0.885 0.864 0.847 0.838 0.86  0.849 0.851\n",
      " 0.864 0.848 0.856 0.869]\n",
      "min= 0.814 max= 0.885 avg= 0.8533499999999999\n"
     ]
    }
   ],
   "source": [
    "arr =np.array([])\n",
    "for i in range(0,100):\n",
    "    data=make_df(i)\n",
    "    correct=testing(data)\n",
    "    correct=correct/1000\n",
    "    arr=np.append(correct, arr)\n",
    "print(arr)\n",
    "max=np.max(arr)\n",
    "min=np.min(arr)\n",
    "avg=np.average(arr)\n",
    "print(\"min=\", min, \"max=\", max, \"avg=\", avg)"
   ]
  },
  {
   "cell_type": "code",
   "execution_count": null,
   "metadata": {},
   "outputs": [],
   "source": []
  },
  {
   "cell_type": "code",
   "execution_count": null,
   "metadata": {},
   "outputs": [],
   "source": []
  },
  {
   "cell_type": "code",
   "execution_count": null,
   "metadata": {},
   "outputs": [],
   "source": []
  },
  {
   "cell_type": "code",
   "execution_count": null,
   "metadata": {},
   "outputs": [],
   "source": []
  },
  {
   "cell_type": "code",
   "execution_count": null,
   "metadata": {},
   "outputs": [],
   "source": []
  },
  {
   "cell_type": "code",
   "execution_count": 25,
   "metadata": {},
   "outputs": [],
   "source": [
    "# check what would happen if the points were from -10-10"
   ]
  },
  {
   "cell_type": "code",
   "execution_count": 26,
   "metadata": {},
   "outputs": [],
   "source": [
    "x = []\n",
    "y = []\n",
    "value = []\n",
    "random.seed(1)\n",
    "for i in range(1000):\n",
    "    randX = random.randint(-10000, 10000)\n",
    "    randY = random.randint(-10000, 10000)\n",
    "    x.append(randX/1000)\n",
    "    y.append(randY/1000)\n",
    "    if y[i] > 1:\n",
    "        value.append(1)\n",
    "    else:\n",
    "        value.append(-1)\n",
    "\n",
    "    end = {'x': x, 'y': y, 'value': value}\n",
    "    df= pd.DataFrame(data=end,columns = ['x', 'y', 'value'])\n",
    "    "
   ]
  },
  {
   "cell_type": "code",
   "execution_count": 27,
   "metadata": {},
   "outputs": [
    {
     "data": {
      "text/html": [
       "<div>\n",
       "<style scoped>\n",
       "    .dataframe tbody tr th:only-of-type {\n",
       "        vertical-align: middle;\n",
       "    }\n",
       "\n",
       "    .dataframe tbody tr th {\n",
       "        vertical-align: top;\n",
       "    }\n",
       "\n",
       "    .dataframe thead th {\n",
       "        text-align: right;\n",
       "    }\n",
       "</style>\n",
       "<table border=\"1\" class=\"dataframe\">\n",
       "  <thead>\n",
       "    <tr style=\"text-align: right;\">\n",
       "      <th></th>\n",
       "      <th>x</th>\n",
       "      <th>y</th>\n",
       "      <th>value</th>\n",
       "    </tr>\n",
       "  </thead>\n",
       "  <tbody>\n",
       "    <tr>\n",
       "      <th>0</th>\n",
       "      <td>-5.598</td>\n",
       "      <td>8.651</td>\n",
       "      <td>1</td>\n",
       "    </tr>\n",
       "    <tr>\n",
       "      <th>1</th>\n",
       "      <td>-7.933</td>\n",
       "      <td>-1.642</td>\n",
       "      <td>-1</td>\n",
       "    </tr>\n",
       "    <tr>\n",
       "      <th>2</th>\n",
       "      <td>-6.137</td>\n",
       "      <td>6.234</td>\n",
       "      <td>1</td>\n",
       "    </tr>\n",
       "    <tr>\n",
       "      <th>3</th>\n",
       "      <td>4.728</td>\n",
       "      <td>5.474</td>\n",
       "      <td>1</td>\n",
       "    </tr>\n",
       "    <tr>\n",
       "      <th>4</th>\n",
       "      <td>2.439</td>\n",
       "      <td>-3.121</td>\n",
       "      <td>-1</td>\n",
       "    </tr>\n",
       "    <tr>\n",
       "      <th>...</th>\n",
       "      <td>...</td>\n",
       "      <td>...</td>\n",
       "      <td>...</td>\n",
       "    </tr>\n",
       "    <tr>\n",
       "      <th>995</th>\n",
       "      <td>3.359</td>\n",
       "      <td>-2.411</td>\n",
       "      <td>-1</td>\n",
       "    </tr>\n",
       "    <tr>\n",
       "      <th>996</th>\n",
       "      <td>9.918</td>\n",
       "      <td>-8.617</td>\n",
       "      <td>-1</td>\n",
       "    </tr>\n",
       "    <tr>\n",
       "      <th>997</th>\n",
       "      <td>-2.111</td>\n",
       "      <td>-2.642</td>\n",
       "      <td>-1</td>\n",
       "    </tr>\n",
       "    <tr>\n",
       "      <th>998</th>\n",
       "      <td>-2.022</td>\n",
       "      <td>2.932</td>\n",
       "      <td>1</td>\n",
       "    </tr>\n",
       "    <tr>\n",
       "      <th>999</th>\n",
       "      <td>2.430</td>\n",
       "      <td>-3.114</td>\n",
       "      <td>-1</td>\n",
       "    </tr>\n",
       "  </tbody>\n",
       "</table>\n",
       "<p>1000 rows × 3 columns</p>\n",
       "</div>"
      ],
      "text/plain": [
       "         x      y  value\n",
       "0   -5.598  8.651      1\n",
       "1   -7.933 -1.642     -1\n",
       "2   -6.137  6.234      1\n",
       "3    4.728  5.474      1\n",
       "4    2.439 -3.121     -1\n",
       "..     ...    ...    ...\n",
       "995  3.359 -2.411     -1\n",
       "996  9.918 -8.617     -1\n",
       "997 -2.111 -2.642     -1\n",
       "998 -2.022  2.932      1\n",
       "999  2.430 -3.114     -1\n",
       "\n",
       "[1000 rows x 3 columns]"
      ]
     },
     "execution_count": 27,
     "metadata": {},
     "output_type": "execute_result"
    }
   ],
   "source": [
    "df"
   ]
  },
  {
   "cell_type": "code",
   "execution_count": 28,
   "metadata": {},
   "outputs": [
    {
     "data": {
      "text/plain": [
       "<matplotlib.axes._subplots.AxesSubplot at 0x15fca1a6a00>"
      ]
     },
     "execution_count": 28,
     "metadata": {},
     "output_type": "execute_result"
    },
    {
     "data": {
      "image/png": "[encoded data removed]",
      "text/plain": [
       "<Figure size 432x432 with 1 Axes>"
      ]
     },
     "metadata": {
      "needs_background": "light"
     },
     "output_type": "display_data"
    }
   ],
   "source": [
    "plt.figure(figsize = (6,6))\n",
    "sns.countplot(x = \"value\", data = df)"
   ]
  },
  {
   "cell_type": "code",
   "execution_count": 29,
   "metadata": {},
   "outputs": [],
   "source": [
    "def weight_genarate1():\n",
    "    weight = []\n",
    "    for i in range(2):\n",
    "        random.seed(i)\n",
    "        rand = random.uniform(0,1)\n",
    "        rand=round(rand,4)\n",
    "        weight.append(rand)\n",
    "        \n",
    "    random.seed(4)\n",
    "    bias = random.uniform(0, 1)\n",
    "    bias=round(bias,4)\n",
    "    return weight, bias"
   ]
  },
  {
   "cell_type": "code",
   "execution_count": 30,
   "metadata": {},
   "outputs": [],
   "source": [
    "# activate \n",
    "def activate1(x, y, bias, weight):\n",
    "    return (bias + x*weight[0] + y*weight[1]) "
   ]
  },
  {
   "cell_type": "code",
   "execution_count": 31,
   "metadata": {},
   "outputs": [],
   "source": [
    "# error calculation:    \n",
    "def error_calc1(predicted, expected):\n",
    "    error = (expected - predicted) ** 2\n",
    "    return error"
   ]
  },
  {
   "cell_type": "code",
   "execution_count": 91,
   "metadata": {},
   "outputs": [],
   "source": [
    "def adaline_algo1(learning_rate, train):\n",
    "    EPS = 0.0000005\n",
    "    weight, bias = weight_genarate1()\n",
    "#     print(weight, bias)\n",
    "    \n",
    "    for index, row in train.iterrows():\n",
    "        predicted = activate1(row['x'], row['y'], bias, weight)\n",
    "#         print(\"predicted=\",predicted)\n",
    "        \n",
    "        # update:\n",
    "#         print(\"old weight and bias \", weight, bias)\n",
    "        weight[0] = round((weight[0] + learning_rate*(row['value'] - predicted)*row['x']),3)\n",
    "        weight[1] = round((weight[1] + learning_rate*(row['value'] - predicted)*row['y']),3)\n",
    "        bias = round((bias + learning_rate * (row['value'] - predicted)),3)\n",
    "#         print(\"new weight and bias \", weight, bias)\n",
    "        \n",
    "        # error calc\n",
    "        error = error_calc1(predicted, row['value'])\n",
    "#         print(\"error=\",error)     \n",
    "        if error <= EPS or error == 0:\n",
    "            break\n",
    "      \n",
    "    return weight, bias"
   ]
  },
  {
   "cell_type": "code",
   "execution_count": 92,
   "metadata": {},
   "outputs": [
    {
     "data": {
      "text/plain": [
       "([0.033, 0.193], -0.092)"
      ]
     },
     "execution_count": 92,
     "metadata": {},
     "output_type": "execute_result"
    }
   ],
   "source": [
    "adaline_algo1(0.01,df)"
   ]
  },
  {
   "cell_type": "code",
   "execution_count": 122,
   "metadata": {},
   "outputs": [],
   "source": [
    "def testing1(test):\n",
    "    weight, bias=adaline_algo1(0.01,df)\n",
    "    count=0\n",
    "    pred=[]\n",
    "    for index, row in test.iterrows():\n",
    "        prediction =activate1(row['x'], row['y'], bias, weight) \n",
    "        if prediction>=0:\n",
    "            prediction=1\n",
    "        else:\n",
    "            prediction=-1\n",
    "        pred.append(prediction)\n",
    "        if(prediction==row['value']):\n",
    "            count=count+1\n",
    "    test['predict']=pred\n",
    "    print(test)\n",
    "    return(count)"
   ]
  },
  {
   "cell_type": "code",
   "execution_count": 123,
   "metadata": {},
   "outputs": [],
   "source": [
    "def make_df1(j):\n",
    "    x = []\n",
    "    y = []\n",
    "    value = []\n",
    "    random.seed(j)\n",
    "    for i in range(1000):\n",
    "        randX = random.randint(-10000, 10000)\n",
    "        randY = random.randint(-10000, 10000)\n",
    "        x.append(randX/1000)\n",
    "        y.append(randY/1000)\n",
    "        if y[i] > 1:\n",
    "            value.append(1)\n",
    "        else:\n",
    "            value.append(-1)\n",
    "\n",
    "    end = {'x': x, 'y': y, 'value': value}\n",
    "    df= pd.DataFrame(data=end,columns = ['x', 'y', 'value'])\n",
    "    return df"
   ]
  },
  {
   "cell_type": "code",
   "execution_count": 124,
   "metadata": {},
   "outputs": [],
   "source": [
    "def plotting(test):\n",
    "#     print(test)\n",
    "    f, ax = plt.subplots(1, 2)\n",
    "    ax[0].set_title(\"value\")\n",
    "    ax[1].set_title(\"predict\")\n",
    "   \n",
    "   \n",
    "\n",
    "    for index, row in test.iterrows():\n",
    "        if row['value']==1:\n",
    "             ax[0].plot(row['x'], row['y'], markersize=2, marker=\"o\", color=\"blue\")\n",
    "    \n",
    "#              plt.plot(row['x'], row['y'], markersize=2, marker=\"o\", color=\"blue\")\n",
    "        else:\n",
    "             ax[0].plot(row['x'], row['y'], markersize=2, marker=\"o\", color=\"red\")\n",
    "#              plt.plot(row['x'], row['y'], markersize=2, marker=\"o\", color=\"red\")\n",
    "        if row['predict']==1:\n",
    "             ax[1].plot(row['x'], row['y'], markersize=2, marker=\"o\", color=\"blue\")\n",
    "    \n",
    "#              plt.plot(row['x'], row['y'], markersize=2, marker=\"o\", color=\"blue\")\n",
    "        else:\n",
    "             ax[1].plot(row['x'], row['y'], markersize=2, marker=\"o\", color=\"red\")\n",
    "#              plt.plot(row['x'], row['y'], markersize=2, marker=\"o\", color=\"red\")\n",
    "    plt.show()"
   ]
  },
  {
   "cell_type": "code",
   "execution_count": 125,
   "metadata": {},
   "outputs": [
    {
     "name": "stdout",
     "output_type": "stream",
     "text": [
      "         x      y  value  predict\n",
      "0    2.623  3.781      1        1\n",
      "1   -8.674 -1.516     -1       -1\n",
      "2    6.753  5.922      1        1\n",
      "3    3.268 -0.062     -1        1\n",
      "4    5.617  1.732      1        1\n",
      "..     ...    ...    ...      ...\n",
      "995 -4.746  5.355      1        1\n",
      "996  2.789 -3.852     -1       -1\n",
      "997  3.483  6.256      1        1\n",
      "998 -3.707 -4.511     -1       -1\n",
      "999  2.808 -8.456     -1       -1\n",
      "\n",
      "[1000 rows x 4 columns]\n"
     ]
    },
    {
     "data": {
      "image/png": "[encoded data removed]",
      "text/plain": [
       "<Figure size 432x288 with 2 Axes>"
      ]
     },
     "metadata": {
      "needs_background": "light"
     },
     "output_type": "display_data"
    },
    {
     "name": "stdout",
     "output_type": "stream",
     "text": [
      "         x      y  value  predict\n",
      "0   -5.598  8.651      1        1\n",
      "1   -7.933 -1.642     -1       -1\n",
      "2   -6.137  6.234      1        1\n",
      "3    4.728  5.474      1        1\n",
      "4    2.439 -3.121     -1       -1\n",
      "..     ...    ...    ...      ...\n",
      "995  3.359 -2.411     -1       -1\n",
      "996  9.918 -8.617     -1       -1\n",
      "997 -2.111 -2.642     -1       -1\n",
      "998 -2.022  2.932      1        1\n",
      "999  2.430 -3.114     -1       -1\n",
      "\n",
      "[1000 rows x 4 columns]\n"
     ]
    },
    {
     "data": {
      "image/png": "[encoded data removed]",
      "text/plain": [
       "<Figure size 432x288 with 2 Axes>"
      ]
     },
     "metadata": {
      "needs_background": "light"
     },
     "output_type": "display_data"
    },
    {
     "name": "stdout",
     "output_type": "stream",
     "text": [
      "[0.954 0.945]\n",
      "min= 0.945 max= 0.954 avg= 0.9495\n"
     ]
    }
   ],
   "source": [
    "arr =np.array([])\n",
    "for i in range(0,2):\n",
    "    data=make_df1(i)\n",
    "    correct=testing1(data)\n",
    "    correct=correct/1000\n",
    "    arr=np.append(correct, arr)\n",
    "    plotting(data)\n",
    "print(arr)\n",
    "max=np.max(arr)\n",
    "min=np.min(arr)\n",
    "avg=np.average(arr)\n",
    "print(\"min=\", min, \"max=\", max, \"avg=\", avg)"
   ]
  },
  {
   "cell_type": "code",
   "execution_count": null,
   "metadata": {},
   "outputs": [],
   "source": []
  },
  {
   "cell_type": "code",
   "execution_count": 126,
   "metadata": {},
   "outputs": [],
   "source": [
    "import math"
   ]
  },
  {
   "cell_type": "code",
   "execution_count": 176,
   "metadata": {},
   "outputs": [],
   "source": [
    "x = []\n",
    "y = []\n",
    "value = []\n",
    "random.seed(9)\n",
    "for i in range(1000):\n",
    "    randX = random.randint(-10000, 10000)\n",
    "    randY = random.randint(-10000, 10000)\n",
    "    x.append(randX/100)\n",
    "    y.append(randY/100)\n",
    "#     print(math.sqrt(x[i]**2+y[i]**2))\n",
    "    if 2<= x[i]**2+y[i]**2 <=3:\n",
    "        value.append(1)\n",
    "    else:\n",
    "        value.append(-1)\n",
    "\n",
    "end = {'x': x, 'y': y, 'value': value}\n",
    "circle= pd.DataFrame(data=end,columns = ['x', 'y', 'value'])"
   ]
  },
  {
   "cell_type": "code",
   "execution_count": 177,
   "metadata": {},
   "outputs": [
    {
     "data": {
      "text/html": [
       "<div>\n",
       "<style scoped>\n",
       "    .dataframe tbody tr th:only-of-type {\n",
       "        vertical-align: middle;\n",
       "    }\n",
       "\n",
       "    .dataframe tbody tr th {\n",
       "        vertical-align: top;\n",
       "    }\n",
       "\n",
       "    .dataframe thead th {\n",
       "        text-align: right;\n",
       "    }\n",
       "</style>\n",
       "<table border=\"1\" class=\"dataframe\">\n",
       "  <thead>\n",
       "    <tr style=\"text-align: right;\">\n",
       "      <th></th>\n",
       "      <th>x</th>\n",
       "      <th>y</th>\n",
       "      <th>value</th>\n",
       "    </tr>\n",
       "  </thead>\n",
       "  <tbody>\n",
       "    <tr>\n",
       "      <th>0</th>\n",
       "      <td>51.71</td>\n",
       "      <td>22.32</td>\n",
       "      <td>-1</td>\n",
       "    </tr>\n",
       "    <tr>\n",
       "      <th>1</th>\n",
       "      <td>-12.47</td>\n",
       "      <td>-54.61</td>\n",
       "      <td>-1</td>\n",
       "    </tr>\n",
       "    <tr>\n",
       "      <th>2</th>\n",
       "      <td>-39.01</td>\n",
       "      <td>-97.90</td>\n",
       "      <td>-1</td>\n",
       "    </tr>\n",
       "    <tr>\n",
       "      <th>3</th>\n",
       "      <td>10.86</td>\n",
       "      <td>64.75</td>\n",
       "      <td>-1</td>\n",
       "    </tr>\n",
       "    <tr>\n",
       "      <th>4</th>\n",
       "      <td>51.95</td>\n",
       "      <td>98.14</td>\n",
       "      <td>-1</td>\n",
       "    </tr>\n",
       "    <tr>\n",
       "      <th>...</th>\n",
       "      <td>...</td>\n",
       "      <td>...</td>\n",
       "      <td>...</td>\n",
       "    </tr>\n",
       "    <tr>\n",
       "      <th>995</th>\n",
       "      <td>-3.12</td>\n",
       "      <td>2.73</td>\n",
       "      <td>-1</td>\n",
       "    </tr>\n",
       "    <tr>\n",
       "      <th>996</th>\n",
       "      <td>-65.45</td>\n",
       "      <td>-70.40</td>\n",
       "      <td>-1</td>\n",
       "    </tr>\n",
       "    <tr>\n",
       "      <th>997</th>\n",
       "      <td>84.33</td>\n",
       "      <td>37.81</td>\n",
       "      <td>-1</td>\n",
       "    </tr>\n",
       "    <tr>\n",
       "      <th>998</th>\n",
       "      <td>24.54</td>\n",
       "      <td>24.47</td>\n",
       "      <td>-1</td>\n",
       "    </tr>\n",
       "    <tr>\n",
       "      <th>999</th>\n",
       "      <td>23.00</td>\n",
       "      <td>-6.98</td>\n",
       "      <td>-1</td>\n",
       "    </tr>\n",
       "  </tbody>\n",
       "</table>\n",
       "<p>1000 rows × 3 columns</p>\n",
       "</div>"
      ],
      "text/plain": [
       "         x      y  value\n",
       "0    51.71  22.32     -1\n",
       "1   -12.47 -54.61     -1\n",
       "2   -39.01 -97.90     -1\n",
       "3    10.86  64.75     -1\n",
       "4    51.95  98.14     -1\n",
       "..     ...    ...    ...\n",
       "995  -3.12   2.73     -1\n",
       "996 -65.45 -70.40     -1\n",
       "997  84.33  37.81     -1\n",
       "998  24.54  24.47     -1\n",
       "999  23.00  -6.98     -1\n",
       "\n",
       "[1000 rows x 3 columns]"
      ]
     },
     "execution_count": 177,
     "metadata": {},
     "output_type": "execute_result"
    }
   ],
   "source": [
    "circle"
   ]
  },
  {
   "cell_type": "code",
   "execution_count": 178,
   "metadata": {},
   "outputs": [
    {
     "data": {
      "text/plain": [
       "<matplotlib.axes._subplots.AxesSubplot at 0x15fd16bbfd0>"
      ]
     },
     "execution_count": 178,
     "metadata": {},
     "output_type": "execute_result"
    },
    {
     "data": {
      "image/png": "[encoded data removed]",
      "text/plain": [
       "<Figure size 432x432 with 1 Axes>"
      ]
     },
     "metadata": {
      "needs_background": "light"
     },
     "output_type": "display_data"
    }
   ],
   "source": [
    "plt.figure(figsize = (6,6))\n",
    "sns.countplot(x = \"value\", data = circle)"
   ]
  },
  {
   "cell_type": "code",
   "execution_count": 179,
   "metadata": {},
   "outputs": [],
   "source": [
    "def testingcir(test):\n",
    "    weight, bias=adaline_algo1(0.001,circle)\n",
    "    count=0\n",
    "    pred=[]\n",
    "    for index, row in test.iterrows():\n",
    "        prediction =activate1(row['x'], row['y'], bias, weight) \n",
    "        if prediction>=0:\n",
    "            prediction=1\n",
    "        else:\n",
    "            prediction=-1\n",
    "        pred.append(prediction)\n",
    "        if(prediction==row['value']):\n",
    "            count=count+1\n",
    "    test['predict']=pred\n",
    "    print(test)\n",
    "    return(count)"
   ]
  },
  {
   "cell_type": "code",
   "execution_count": 180,
   "metadata": {},
   "outputs": [
    {
     "data": {
      "text/plain": [
       "([-0.003, -0.024], 0.233)"
      ]
     },
     "execution_count": 180,
     "metadata": {},
     "output_type": "execute_result"
    }
   ],
   "source": [
    "adaline_algo1(0.0001, circle)"
   ]
  },
  {
   "cell_type": "code",
   "execution_count": 181,
   "metadata": {},
   "outputs": [],
   "source": [
    "x = []\n",
    "y = []\n",
    "value = []\n",
    "random.seed(8)\n",
    "for i in range(1000):\n",
    "    randX = random.randint(-10000, 10000)\n",
    "    randY = random.randint(-10000, 10000)\n",
    "    x.append(randX/100)\n",
    "    y.append(randY/100)\n",
    "#     print(math.sqrt(x[i]**2+y[i]**2))\n",
    "    if 2<= x[i]**2+y[i]**2 <=3:\n",
    "        value.append(1)\n",
    "    else:\n",
    "        value.append(-1)\n",
    "\n",
    "end = {'x': x, 'y': y, 'value': value}\n",
    "circle2= pd.DataFrame(data=end,columns = ['x', 'y', 'value'])"
   ]
  },
  {
   "cell_type": "code",
   "execution_count": 182,
   "metadata": {},
   "outputs": [
    {
     "name": "stdout",
     "output_type": "stream",
     "text": [
      "         x      y  value  predict\n",
      "0   -25.72  21.37     -1       -1\n",
      "1    23.00 -58.61     -1       -1\n",
      "2   -36.72 -85.66     -1       -1\n",
      "3   -72.09 -55.16     -1       -1\n",
      "4   -18.92  65.92     -1       -1\n",
      "..     ...    ...    ...      ...\n",
      "995 -94.29 -98.58     -1       -1\n",
      "996 -51.01 -51.63     -1       -1\n",
      "997  76.97 -15.39     -1       -1\n",
      "998 -94.99 -56.02     -1       -1\n",
      "999  76.28 -93.08     -1       -1\n",
      "\n",
      "[1000 rows x 4 columns]\n"
     ]
    },
    {
     "data": {
      "text/plain": [
       "1000"
      ]
     },
     "execution_count": 182,
     "metadata": {},
     "output_type": "execute_result"
    }
   ],
   "source": [
    "testingcir(circle2)"
   ]
  },
  {
   "cell_type": "code",
   "execution_count": 183,
   "metadata": {},
   "outputs": [],
   "source": [
    "def plotting(test):\n",
    "    \n",
    "    print(test)\n",
    "    f, ax = plt.subplots(1, 2)\n",
    "    ax[0].set_title(\"value\")\n",
    "    ax[1].set_title(\"predict\")\n",
    "   \n",
    "   \n",
    "\n",
    "    for index, row in test.iterrows():\n",
    "#         if( -10<=row['x']<=10 and -10<=row['y']<=10):\n",
    "        if row['value']==1:\n",
    "             ax[0].plot(row['x'], row['y'], markersize=5, marker=\"o\", color=\"blue\")\n",
    "\n",
    "#              plt.plot(row['x'], row['y'], markersize=2, marker=\"o\", color=\"blue\")\n",
    "        else:\n",
    "             ax[0].plot(row['x'], row['y'], markersize=2, marker=\"o\", color=\"red\")\n",
    "#              plt.plot(row['x'], row['y'], markersize=2, marker=\"o\", color=\"red\")\n",
    "        if row['predict']==1:\n",
    "             ax[1].plot(row['x'], row['y'], markersize=5, marker=\"o\", color=\"blue\")\n",
    "\n",
    "#              plt.plot(row['x'], row['y'], markersize=2, marker=\"o\", color=\"blue\")\n",
    "        else:\n",
    "             ax[1].plot(row['x'], row['y'], markersize=2, marker=\"o\", color=\"red\")\n",
    "#              plt.plot(row['x'], row['y'], markersize=2, marker=\"o\", color=\"red\")\n",
    "    plt.show()\n",
    "            "
   ]
  },
  {
   "cell_type": "code",
   "execution_count": 184,
   "metadata": {},
   "outputs": [
    {
     "name": "stdout",
     "output_type": "stream",
     "text": [
      "         x      y  value  predict\n",
      "0   -25.72  21.37     -1       -1\n",
      "1    23.00 -58.61     -1       -1\n",
      "2   -36.72 -85.66     -1       -1\n",
      "3   -72.09 -55.16     -1       -1\n",
      "4   -18.92  65.92     -1       -1\n",
      "..     ...    ...    ...      ...\n",
      "995 -94.29 -98.58     -1       -1\n",
      "996 -51.01 -51.63     -1       -1\n",
      "997  76.97 -15.39     -1       -1\n",
      "998 -94.99 -56.02     -1       -1\n",
      "999  76.28 -93.08     -1       -1\n",
      "\n",
      "[1000 rows x 4 columns]\n"
     ]
    },
    {
     "data": {
      "image/png": "[encoded data removed]",
      "text/plain": [
       "<Figure size 432x288 with 2 Axes>"
      ]
     },
     "metadata": {
      "needs_background": "light"
     },
     "output_type": "display_data"
    }
   ],
   "source": [
    "plotting(circle2)"
   ]
  },
  {
   "cell_type": "code",
   "execution_count": null,
   "metadata": {},
   "outputs": [],
   "source": []
  },
  {
   "cell_type": "code",
   "execution_count": null,
   "metadata": {},
   "outputs": [],
   "source": []
  },
  {
   "cell_type": "code",
   "execution_count": null,
   "metadata": {},
   "outputs": [],
   "source": []
  }
 ],
 "metadata": {
  "kernelspec": {
   "display_name": "Python 3",
   "language": "python",
   "name": "python3"
  },
  "language_info": {
   "codemirror_mode": {
    "name": "ipython",
    "version": 3
   },
   "file_extension": ".py",
   "mimetype": "text/x-python",
   "name": "python",
   "nbconvert_exporter": "python",
   "pygments_lexer": "ipython3",
   "version": "3.8.3"
  }
 },
 "nbformat": 4,
 "nbformat_minor": 4
}
