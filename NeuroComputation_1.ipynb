{
 "cells": [
  {
   "cell_type": "markdown",
   "metadata": {},
   "source": [
    "# Parts A and B:"
   ]
  },
  {
   "cell_type": "code",
   "execution_count": 1,
   "metadata": {},
   "outputs": [],
   "source": [
    "#libraries\n",
    "import numpy as np \n",
    "import pandas as pd\n",
    "\n",
    "import random\n",
    "\n",
    "#preproccesing\n",
    "from sklearn.metrics import classification_report,f1_score\n",
    "from sklearn.metrics import confusion_matrix\n",
    "\n",
    "# visulization\n",
    "import matplotlib.pyplot as plt\n",
    "import seaborn as sns\n",
    "\n",
    "import warnings\n",
    "warnings.filterwarnings('ignore')"
   ]
  },
  {
   "cell_type": "markdown",
   "metadata": {},
   "source": [
    "## Adaline Algorithm:\n",
    "<b> Adaline: </b>"
   ]
  },
  {
   "cell_type": "code",
   "execution_count": 2,
   "metadata": {},
   "outputs": [],
   "source": [
    "class Adaline:\n",
    "    def __init__(self, learning_rate, train):\n",
    "        self.learning_rate = learning_rate\n",
    "        self.train = train\n",
    "\n",
    "    # this function generates random small weights and bias for the Adaline algorithm\n",
    "    def _weight_genarate(self):\n",
    "        weight = [] # [x,y]\n",
    "        for i in range(2):\n",
    "            random.seed(i)\n",
    "            rand = random.uniform(0, 0.01)\n",
    "            rand = round(rand, 4)\n",
    "            weight.append(rand)\n",
    "        \n",
    "        # now generate the bias \n",
    "        random.seed(4)\n",
    "        bias = random.uniform(0, 1)\n",
    "        bias = round(bias, 4)\n",
    "        return weight, bias\n",
    "\n",
    "    # this function fits the adaline model on the training data \n",
    "    def fit(self):\n",
    "        EPS = 0.000001\n",
    "        # generate weights and bias\n",
    "        weight, bias = self._weight_genarate()\n",
    "\n",
    "        # for each row we fix the bias and wights in order to get the minimum error\n",
    "        for index, row in self.train.iterrows():\n",
    "            predicted = bias + row['x'] * weight[0] + row['y'] * weight[1]\n",
    "\n",
    "            weight[0] = round((weight[0] + self.learning_rate * (row['value'] - predicted) * row['x']), 3)\n",
    "            weight[1] = round((weight[1] + self.learning_rate * (row['value'] - predicted) * row['y']), 3)\n",
    "            bias = round((bias + self.learning_rate * (row['value'] - predicted)), 3)\n",
    "\n",
    "            # error calculation\n",
    "            error = (row['value'] - predicted) ** 2\n",
    "            # if the error is small enough return\n",
    "            if error <= EPS or error == 0:\n",
    "                break\n",
    "                \n",
    "        return weight, bias\n",
    "\n",
    "    # this function predicts on a test data and returns the number of correct predictions\n",
    "    def predict(self, test, weight, bias):\n",
    "        count = 0\n",
    "        pred = []\n",
    "        # for each row we use the activation formula with the weights and bias we returned\n",
    "        # in the fit function to predict on the test data set\n",
    "        for index, row in test.iterrows():\n",
    "            prediction = bias + (row['x'] * weight[0]) + (row['y'] * weight[1])\n",
    "            if prediction > 0:\n",
    "                prediction = 1\n",
    "            else:\n",
    "                prediction = -1\n",
    "            pred.append(prediction)\n",
    "\n",
    "            if prediction == row['value']:\n",
    "                count += 1\n",
    "        # now add the prediction list to the data set in order to make comparison \n",
    "        test['predict'] = pred\n",
    "        return count\n",
    "\n",
    "    # this function caculates the acuuracy of the predictions\n",
    "    def score(self, pred, test):\n",
    "        acurr = pred / len(test)\n",
    "        res = round(acurr, 4)\n",
    "        return res"
   ]
  },
  {
   "cell_type": "markdown",
   "metadata": {},
   "source": [
    "<b> Main: </b>"
   ]
  },
  {
   "cell_type": "code",
   "execution_count": 3,
   "metadata": {},
   "outputs": [],
   "source": [
    "# this function builds the data set for part A of the assighnment\n",
    "def build_data_partA(i):\n",
    "    x = []\n",
    "    y = []\n",
    "    value = []\n",
    "    random.seed(i)\n",
    "    for i in range(1000):\n",
    "        # generate two random numbers between -10000 to 10000\n",
    "        randX = random.randint(-10000, 10000)\n",
    "        randY = random.randint(-10000, 10000)\n",
    "        x.append(randX / 100)\n",
    "        y.append(randY / 100)\n",
    "        # for part A if y > 1 then the value is 1\n",
    "        if y[i] > 1:\n",
    "            value.append(1)\n",
    "        # else the value is -1\n",
    "        else:\n",
    "            value.append(-1)\n",
    "\n",
    "    # make the data frame\n",
    "    end = {'x': x, 'y': y, 'value': value}\n",
    "    df = pd.DataFrame(data=end, columns=['x', 'y', 'value'])\n",
    "    return df"
   ]
  },
  {
   "cell_type": "code",
   "execution_count": 4,
   "metadata": {},
   "outputs": [],
   "source": [
    "# this function builds the data set for part B of the assighnment\n",
    "def build_data_partB(i):\n",
    "    x = []\n",
    "    y = []\n",
    "    value = []\n",
    "    random.seed(i)\n",
    "    for i in range(1000):\n",
    "        # generate two random numbers between -10000 to 10000\n",
    "        randX = random.randint(-10000, 10000)\n",
    "        randY = random.randint(-10000, 10000)\n",
    "        x.append(randX / 100)\n",
    "        y.append(randY / 100)\n",
    "        # for part A if (4 <= y^2 + x^2 <= 9) then the value is 1\n",
    "        if 4 <= (y[i] ** 2 + x[i] ** 2) <= 9:\n",
    "            value.append(1)\n",
    "        # else the value is -1\n",
    "        else:\n",
    "            value.append(-1)\n",
    "\n",
    "    # make the data frame\n",
    "    end = {'x': x, 'y': y, 'value': value}\n",
    "    df = pd.DataFrame(data=end, columns=['x', 'y', 'value'])\n",
    "    return df\n"
   ]
  },
  {
   "cell_type": "code",
   "execution_count": 5,
   "metadata": {},
   "outputs": [],
   "source": [
    "# this function plots the values of the actual values of the data compared to the prediction values we predicted\n",
    "def plotting(test):\n",
    "    f, ax = plt.subplots(1, 2)\n",
    "    ax[0].set_title(\"value\")\n",
    "    ax[1].set_title(\"predict\")\n",
    "\n",
    "    for index, row in test.iterrows():\n",
    "        if row['value'] == 1:\n",
    "            ax[0].plot(row['x'], row['y'], markersize=2, marker=\"o\", color=\"blue\")\n",
    "        else:\n",
    "            ax[0].plot(row['x'], row['y'], markersize=2, marker=\"o\", color=\"red\")\n",
    "        if row['predict'] == 1:\n",
    "            ax[1].plot(row['x'], row['y'], markersize=2, marker=\"o\", color=\"blue\")\n",
    "        else:\n",
    "            ax[1].plot(row['x'], row['y'], markersize=2, marker=\"o\", color=\"red\")\n",
    "    plt.show()"
   ]
  },
  {
   "cell_type": "markdown",
   "metadata": {},
   "source": [
    "<b> confussion matrix: </b> <br>\n",
    "a confusion matrix, also known as an error matrix, is a specific table layout that allows visualization of the performance of an algorithm, typically a supervised learning one (in unsupervised learning it is usually called a matching matrix). Each row of the matrix represents the instances in an actual class while each column represents the instances in a predicted class, or vice versa – both variants are found in the literature. The name stems from the fact that it makes it easy to see whether the system is confusing two classes (i.e. commonly mislabeling one as another). <br>\n",
    "wikipedia - https://en.wikipedia.org/wiki/Confusion_matrix"
   ]
  },
  {
   "cell_type": "code",
   "execution_count": 6,
   "metadata": {},
   "outputs": [],
   "source": [
    "# this function plots the confussion matrix\n",
    "def confussion_matrix (cf_matrix):\n",
    "    group_names = ['true pos', 'false pos', 'false neg', 'true neg']\n",
    "    group_counts = [\"{0:0.0f}\".format(value) for value in cf_matrix.flatten()]\n",
    "    group_percentages = [\"{0:.2%}\".format(value) for value in cf_matrix.flatten()/np.sum(cf_matrix)]\n",
    "    labels = [f\"{v1}\\n{v2}\\n{v3}\" for v1, v2, v3 in zip(group_names,group_counts,group_percentages)]\n",
    "    labels = np.asarray(labels).reshape(2,2)\n",
    "    sns.heatmap(cf_matrix, annot=labels, fmt='', cmap='Blues')"
   ]
  },
  {
   "cell_type": "code",
   "execution_count": 7,
   "metadata": {},
   "outputs": [
    {
     "ename": "IndentationError",
     "evalue": "unexpected indent (<ipython-input-7-d7b0b8f39430>, line 3)",
     "output_type": "error",
     "traceback": [
      "\u001b[1;36m  File \u001b[1;32m\"<ipython-input-7-d7b0b8f39430>\"\u001b[1;36m, line \u001b[1;32m3\u001b[0m\n\u001b[1;33m    first_test = build_data_partA(9)\u001b[0m\n\u001b[1;37m    ^\u001b[0m\n\u001b[1;31mIndentationError\u001b[0m\u001b[1;31m:\u001b[0m unexpected indent\n"
     ]
    }
   ],
   "source": [
    "def part_a():\n",
    "    train = build_data_partA(1)\n",
    "        first_test = build_data_partA(9)\n",
    "        second_test = build_data_partA(8)\n",
    "        \n",
    "        train.to_csv(r'C:\\Users\\talia\\NeuroComputation\\NeuroComputation\\train_A.csv')\n",
    "        first_test.to_csv(r'C:\\Users\\talia\\NeuroComputation\\NeuroComputation\\first_test_A.csv')\n",
    "        second_test.to_csv(r'C:\\Users\\talia\\NeuroComputation\\NeuroComputation\\second_test_A.csv')\n",
    "        \n",
    "        print(\"First Test:\")\n",
    "        # run Adaline algorithm\n",
    "        ada = Adaline(0.0001, train)\n",
    "        weight, bias = ada.fit()\n",
    "        ada_pred = ada.predict(first_test, weight, bias)\n",
    "        ada_score = ada.score(ada_pred, first_test)\n",
    "        print(\"Acurracy score:\", ada_score * 100)\n",
    "        \n",
    "        # confusion matrix\n",
    "        con_mat = confusion_matrix(first_test['value'], first_test['predict'])\n",
    "        confussion_matrix(con_mat)\n",
    "        print(classification_report(first_test['value'], first_test['predict']))\n",
    "        plotting(first_test)\n",
    "        \n",
    "        print(\"Second Test:\")\n",
    "        # run Adaline algorithm\n",
    "        ada = Adaline(0.0001, train)\n",
    "        weight, bias = ada.fit()\n",
    "        ada_pred = ada.predict(second_test, weight, bias)\n",
    "        ada_score = ada.score(ada_pred, second_test)\n",
    "        print(\"Acurracy score:\", ada_score * 100)\n",
    "        \n",
    "        # confusion matrix\n",
    "        con_mat = confusion_matrix(second_test['value'], second_test['predict'])\n",
    "        confussion_matrix(con_mat)\n",
    "        print(classification_report(second_test['value'], second_test['predict']))\n",
    "        plotting(second_test)\n"
   ]
  },
  {
   "cell_type": "code",
   "execution_count": null,
   "metadata": {},
   "outputs": [],
   "source": [
    "def part_b():\n",
    "    train = build_data_partB(9)\n",
    "        first_test = build_data_partB(3)\n",
    "        second_test = build_data_partB(7)\n",
    "        \n",
    "        train.to_csv(r'C:\\Users\\talia\\NeuroComputation\\NeuroComputation\\train_B.csv')\n",
    "        first_test.to_csv(r'C:\\Users\\talia\\NeuroComputation\\NeuroComputation\\first_test_B.csv')\n",
    "        second_test.to_csv(r'C:\\Users\\talia\\NeuroComputation\\NeuroComputation\\second_test_B.csv')\n",
    "        \n",
    "        print(\"First Test:\")\n",
    "        # run Adaline algorithm\n",
    "        ada = Adaline(0.001, train)\n",
    "        weight, bias = ada.fit()\n",
    "        ada_pred = ada.predict(first_test, weight, bias)\n",
    "        ada_score = ada.score(ada_pred, first_test)\n",
    "        print(\"Acurracy score:\", ada_score * 100)\n",
    "        \n",
    "        # confusion matrix\n",
    "        con_mat = confusion_matrix(first_test['value'], first_test['predict'])\n",
    "        confussion_matrix(con_mat)\n",
    "        print(classification_report(first_test['value'], first_test['predict']))\n",
    "        plotting(first_test)\n",
    "        \n",
    "        print(\"Second Test:\")\n",
    "        # run Adaline algorithm\n",
    "        ada = Adaline(0.001, train)\n",
    "        weight, bias = ada.fit()\n",
    "        ada_pred = ada.predict(second_test, weight, bias)\n",
    "        ada_score = ada.score(ada_pred, second_test)\n",
    "        print(\"Acurracy score:\", ada_score * 100)\n",
    "        \n",
    "        # confusion matrix\n",
    "        con_mat = confusion_matrix(second_test['value'], second_test['predict'])\n",
    "        confussion_matrix(con_mat)\n",
    "        print(classification_report(second_test['value'], second_test['predict']))\n",
    "        plotting(second_test)"
   ]
  },
  {
   "cell_type": "code",
   "execution_count": null,
   "metadata": {},
   "outputs": [],
   "source": [
    "# this is the main function\n",
    "def main():\n",
    "    part = input(\"Enter the relevant part (A or B): \")\n",
    "\n",
    "    # part A\n",
    "    if part == 'A':\n",
    "        part_a()\n",
    "        \n",
    "    # part B\n",
    "    elif part == 'B':\n",
    "        part_b()\n",
    "\n",
    "    else:\n",
    "        print(\"Not Valid\")"
   ]
  },
  {
   "attachments": {
    "image.png": {
     "image/png": "[encoded data removed]"
    }
   },
   "cell_type": "markdown",
   "metadata": {},
   "source": [
    "### Reminder:\n",
    "![image.png](attachment:image.png)"
   ]
  },
  {
   "cell_type": "code",
   "execution_count": null,
   "metadata": {
    "scrolled": false
   },
   "outputs": [],
   "source": [
    "main()"
   ]
  },
  {
   "cell_type": "code",
   "execution_count": null,
   "metadata": {},
   "outputs": [],
   "source": [
    "main()"
   ]
  },
  {
   "cell_type": "code",
   "execution_count": null,
   "metadata": {},
   "outputs": [],
   "source": []
  },
  {
   "cell_type": "code",
   "execution_count": null,
   "metadata": {},
   "outputs": [],
   "source": []
  },
  {
   "cell_type": "code",
   "execution_count": null,
   "metadata": {},
   "outputs": [],
   "source": []
  },
  {
   "cell_type": "code",
   "execution_count": null,
   "metadata": {},
   "outputs": [],
   "source": []
  },
  {
   "cell_type": "code",
   "execution_count": null,
   "metadata": {},
   "outputs": [],
   "source": []
  }
 ],
 "metadata": {
  "kernelspec": {
   "display_name": "Python 3",
   "language": "python",
   "name": "python3"
  },
  "language_info": {
   "codemirror_mode": {
    "name": "ipython",
    "version": 3
   },
   "file_extension": ".py",
   "mimetype": "text/x-python",
   "name": "python",
   "nbconvert_exporter": "python",
   "pygments_lexer": "ipython3",
   "version": "3.8.3"
  }
 },
 "nbformat": 4,
 "nbformat_minor": 4
}
