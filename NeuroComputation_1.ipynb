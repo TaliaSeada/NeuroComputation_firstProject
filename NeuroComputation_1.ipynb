{
 "cells": [
  {
   "cell_type": "markdown",
   "metadata": {},
   "source": [
    "# Part A:"
   ]
  },
  {
   "cell_type": "code",
   "execution_count": 168,
   "metadata": {},
   "outputs": [],
   "source": [
    "#libraries\n",
    "import numpy as np \n",
    "import pandas as pd\n",
    "import cv2\n",
    "import seaborn as sns\n",
    "import random\n",
    "\n",
    "#preproccesing\n",
    "from sklearn.metrics import classification_report,f1_score\n",
    "from sklearn.metrics import accuracy_score\n",
    "from sklearn import metrics\n",
    "from sklearn.metrics import confusion_matrix\n",
    "\n",
    "# visulization\n",
    "import matplotlib.pyplot as plt\n",
    "%matplotlib inline\n",
    "\n",
    "import warnings\n",
    "warnings.filterwarnings('ignore')"
   ]
  },
  {
   "cell_type": "markdown",
   "metadata": {},
   "source": [
    "## Building the training data"
   ]
  },
  {
   "cell_type": "code",
   "execution_count": 8,
   "metadata": {},
   "outputs": [],
   "source": [
    "x = []\n",
    "y = []\n",
    "value = []\n",
    "for i in range(1000):\n",
    "    randX = random.randint(-10000, 10000)\n",
    "    randY = random.randint(-10000, 10000)\n",
    "    x.append(randX/100)\n",
    "    y.append(randY/100)\n",
    "    if y[i] > 1:\n",
    "        value.append(1)\n",
    "    else:\n",
    "        value.append(-1)\n",
    "\n",
    "end = {'x': x, 'y': y, 'value': value}\n",
    "df= pd.DataFrame(data=end,\n",
    "                columns = ['x', 'y', 'value'])"
   ]
  },
  {
   "cell_type": "code",
   "execution_count": 15,
   "metadata": {},
   "outputs": [],
   "source": [
    "df.to_csv(r'C:\\Users\\nechd\\Desktop\\trainingDF.csv', index = False)\n"
   ]
  },
  {
   "cell_type": "markdown",
   "metadata": {},
   "source": [
    "## Building the first test data"
   ]
  },
  {
   "cell_type": "code",
   "execution_count": 10,
   "metadata": {},
   "outputs": [],
   "source": [
    "x = []\n",
    "y = []\n",
    "value = []\n",
    "for i in range(1000):\n",
    "    randX = random.randint(-10000, 10000)\n",
    "    randY = random.randint(-10000, 10000)\n",
    "    x.append(randX/100)\n",
    "    y.append(randY/100)\n",
    "    if y[i] > 1:\n",
    "        value.append(1)\n",
    "    else:\n",
    "        value.append(-1)\n",
    "\n",
    "end = {'x': x, 'y': y, 'value': value}\n",
    "df= pd.DataFrame(data=end,\n",
    "                columns = ['x', 'y', 'value'])"
   ]
  },
  {
   "cell_type": "code",
   "execution_count": 11,
   "metadata": {},
   "outputs": [],
   "source": [
    "df.to_csv(r'C:\\Users\\nechd\\Desktop\\firstTestDF.csv', index = False)"
   ]
  },
  {
   "cell_type": "markdown",
   "metadata": {},
   "source": [
    "## Building the second test data"
   ]
  },
  {
   "cell_type": "code",
   "execution_count": 12,
   "metadata": {},
   "outputs": [],
   "source": [
    "x = []\n",
    "y = []\n",
    "value = []\n",
    "for i in range(1000):\n",
    "    randX = random.randint(-10000, 10000)\n",
    "    randY = random.randint(-10000, 10000)\n",
    "    x.append(randX/100)\n",
    "    y.append(randY/100)\n",
    "    if y[i] > 1:\n",
    "        value.append(1)\n",
    "    else:\n",
    "        value.append(-1)\n",
    "\n",
    "end = {'x': x, 'y': y, 'value': value}\n",
    "df= pd.DataFrame(data=end,\n",
    "                columns = ['x', 'y', 'value'])"
   ]
  },
  {
   "cell_type": "code",
   "execution_count": 13,
   "metadata": {},
   "outputs": [],
   "source": [
    "df.to_csv(r'C:\\Users\\nechd\\Desktop\\secondTestDF.csv', index = False)"
   ]
  },
  {
   "cell_type": "markdown",
   "metadata": {},
   "source": [
    "### DataFrames:"
   ]
  },
  {
   "cell_type": "code",
   "execution_count": 16,
   "metadata": {},
   "outputs": [],
   "source": [
    "train = pd.read_csv(r'C:\\Users\\nechd\\Desktop\\trainingDF.csv')\n",
    "first_test = pd.read_csv(r'C:\\Users\\nechd\\Desktop\\firstTestDF.csv')\n",
    "second_test = pd.read_csv(r'C:\\Users\\nechd\\Desktop\\secondTestDF.csv')"
   ]
  },
  {
   "cell_type": "code",
   "execution_count": 17,
   "metadata": {},
   "outputs": [
    {
     "data": {
      "text/plain": [
       "<matplotlib.axes._subplots.AxesSubplot at 0x17767b75af0>"
      ]
     },
     "execution_count": 17,
     "metadata": {},
     "output_type": "execute_result"
    },
    {
     "data": {
      "image/png": "[encoded data removed]",
      "text/plain": [
       "<Figure size 432x432 with 1 Axes>"
      ]
     },
     "metadata": {
      "needs_background": "light"
     },
     "output_type": "display_data"
    }
   ],
   "source": [
    "plt.figure(figsize = (6,6))\n",
    "sns.countplot(x = \"value\", data = train)"
   ]
  },
  {
   "cell_type": "code",
   "execution_count": 18,
   "metadata": {},
   "outputs": [
    {
     "data": {
      "text/plain": [
       "<matplotlib.axes._subplots.AxesSubplot at 0x1776d657fd0>"
      ]
     },
     "execution_count": 18,
     "metadata": {},
     "output_type": "execute_result"
    },
    {
     "data": {
      "image/png": "[encoded data removed]",
      "text/plain": [
       "<Figure size 432x432 with 1 Axes>"
      ]
     },
     "metadata": {
      "needs_background": "light"
     },
     "output_type": "display_data"
    }
   ],
   "source": [
    "plt.figure(figsize = (6,6))\n",
    "sns.countplot(x = \"value\", data = first_test)"
   ]
  },
  {
   "cell_type": "code",
   "execution_count": 19,
   "metadata": {},
   "outputs": [
    {
     "data": {
      "text/plain": [
       "<matplotlib.axes._subplots.AxesSubplot at 0x1776d6c6700>"
      ]
     },
     "execution_count": 19,
     "metadata": {},
     "output_type": "execute_result"
    },
    {
     "data": {
      "image/png": "[encoded data removed]",
      "text/plain": [
       "<Figure size 432x432 with 1 Axes>"
      ]
     },
     "metadata": {
      "needs_background": "light"
     },
     "output_type": "display_data"
    }
   ],
   "source": [
    "plt.figure(figsize = (6,6))\n",
    "sns.countplot(x = \"value\", data = second_test)"
   ]
  },
  {
   "cell_type": "markdown",
   "metadata": {},
   "source": [
    "## Adaline Algorithm:"
   ]
  },
  {
   "cell_type": "code",
   "execution_count": 245,
   "metadata": {},
   "outputs": [],
   "source": [
    "def weight_genarate():\n",
    "    weight = []\n",
    "    for i in range(2):\n",
    "        random.seed(i)\n",
    "        rand = random.uniform(0, 0.01)\n",
    "        rand=round(rand,4)\n",
    "        weight.append(rand)\n",
    "        \n",
    "    random.seed(4)\n",
    "    bias = random.uniform(0, 1)\n",
    "    bias=round(bias,4)\n",
    "    return weight, bias"
   ]
  },
  {
   "cell_type": "code",
   "execution_count": 246,
   "metadata": {},
   "outputs": [],
   "source": [
    "# activate \n",
    "def activate(x, y, bias, weight):\n",
    "    return (bias + x*weight[0] + y*weight[1]) "
   ]
  },
  {
   "cell_type": "code",
   "execution_count": 247,
   "metadata": {},
   "outputs": [],
   "source": [
    "# error calculation:    \n",
    "def error_calc(predicted, expected):\n",
    "    error = (expected - predicted) ** 2\n",
    "    return error"
   ]
  },
  {
   "cell_type": "code",
   "execution_count": 253,
   "metadata": {},
   "outputs": [],
   "source": [
    "def adaline_algo(learning_rate, train):\n",
    "    EPS = 0.0005\n",
    "    weight, bias = weight_genarate()\n",
    "#     print(weight, bias)\n",
    "    \n",
    "    for index, row in train.iterrows():\n",
    "        predicted = activate(row['x'], row['y'], bias, weight)\n",
    "#         print(\"predicted=\",predicted)\n",
    "        \n",
    "        # update:\n",
    "#         print(\"old weight and bias \", weight, bias)\n",
    "        weight[0] = round((weight[0] + learning_rate*(row['value'] - predicted)*row['x']),3)\n",
    "        weight[1] = round((weight[1] + learning_rate*(row['value'] - predicted)*row['y']),3)\n",
    "        bias = round((bias + learning_rate * (row['value'] - predicted)),3)\n",
    "        \n",
    "#         print(\"new weight and bias \", weight, bias)\n",
    "        \n",
    "        # error calc\n",
    "        error = error_calc(predicted, row['value'])\n",
    "#         print(\"error=\",error)     \n",
    "        if error <= EPS or error == 0:\n",
    "            break\n",
    "#     print()    \n",
    "    return weight, bias"
   ]
  },
  {
   "cell_type": "code",
   "execution_count": 254,
   "metadata": {},
   "outputs": [],
   "source": [
    "# adaline_algo(0.0005, train)"
   ]
  },
  {
   "cell_type": "code",
   "execution_count": 255,
   "metadata": {},
   "outputs": [],
   "source": [
    "def testing(test):\n",
    "    weight, bias=adaline_algo(0.0001,train)\n",
    "    count=0\n",
    "    for index, row in test.iterrows():\n",
    "        prediction =activate(row['x'], row['y'], bias, weight) \n",
    "        if prediction>=0:\n",
    "            prediction=1\n",
    "        else:\n",
    "            prediction=-1\n",
    "        if(prediction==row['value']):\n",
    "            count=count+1\n",
    "    return(count)"
   ]
  },
  {
   "cell_type": "code",
   "execution_count": 256,
   "metadata": {},
   "outputs": [
    {
     "data": {
      "text/plain": [
       "879"
      ]
     },
     "execution_count": 256,
     "metadata": {},
     "output_type": "execute_result"
    }
   ],
   "source": [
    "testing(first_test)"
   ]
  },
  {
   "cell_type": "code",
   "execution_count": 257,
   "metadata": {},
   "outputs": [
    {
     "data": {
      "text/plain": [
       "884"
      ]
     },
     "execution_count": 257,
     "metadata": {},
     "output_type": "execute_result"
    }
   ],
   "source": [
    "testing(second_test)"
   ]
  },
  {
   "cell_type": "code",
   "execution_count": null,
   "metadata": {},
   "outputs": [],
   "source": []
  },
  {
   "cell_type": "code",
   "execution_count": null,
   "metadata": {},
   "outputs": [],
   "source": []
  },
  {
   "cell_type": "code",
   "execution_count": null,
   "metadata": {},
   "outputs": [],
   "source": []
  },
  {
   "cell_type": "code",
   "execution_count": 258,
   "metadata": {},
   "outputs": [],
   "source": [
    "x = []\n",
    "y = []\n",
    "value = []\n",
    "random.seed(9)\n",
    "for i in range(1000):\n",
    "    randX = random.randint(-10000, 10000)\n",
    "    randY = random.randint(-10000, 10000)\n",
    "    x.append(randX/100)\n",
    "    y.append(randY/100)\n",
    "    if y[i] > 1:\n",
    "        value.append(1)\n",
    "    else:\n",
    "        value.append(-1)\n",
    "\n",
    "end = {'x': x, 'y': y, 'value': value}\n",
    "df2= pd.DataFrame(data=end,columns = ['x', 'y', 'value'])"
   ]
  },
  {
   "cell_type": "code",
   "execution_count": 259,
   "metadata": {},
   "outputs": [
    {
     "data": {
      "text/html": [
       "<div>\n",
       "<style scoped>\n",
       "    .dataframe tbody tr th:only-of-type {\n",
       "        vertical-align: middle;\n",
       "    }\n",
       "\n",
       "    .dataframe tbody tr th {\n",
       "        vertical-align: top;\n",
       "    }\n",
       "\n",
       "    .dataframe thead th {\n",
       "        text-align: right;\n",
       "    }\n",
       "</style>\n",
       "<table border=\"1\" class=\"dataframe\">\n",
       "  <thead>\n",
       "    <tr style=\"text-align: right;\">\n",
       "      <th></th>\n",
       "      <th>x</th>\n",
       "      <th>y</th>\n",
       "      <th>value</th>\n",
       "    </tr>\n",
       "  </thead>\n",
       "  <tbody>\n",
       "    <tr>\n",
       "      <th>0</th>\n",
       "      <td>51.71</td>\n",
       "      <td>22.32</td>\n",
       "      <td>1</td>\n",
       "    </tr>\n",
       "    <tr>\n",
       "      <th>1</th>\n",
       "      <td>-12.47</td>\n",
       "      <td>-54.61</td>\n",
       "      <td>-1</td>\n",
       "    </tr>\n",
       "    <tr>\n",
       "      <th>2</th>\n",
       "      <td>-39.01</td>\n",
       "      <td>-97.90</td>\n",
       "      <td>-1</td>\n",
       "    </tr>\n",
       "    <tr>\n",
       "      <th>3</th>\n",
       "      <td>10.86</td>\n",
       "      <td>64.75</td>\n",
       "      <td>1</td>\n",
       "    </tr>\n",
       "    <tr>\n",
       "      <th>4</th>\n",
       "      <td>51.95</td>\n",
       "      <td>98.14</td>\n",
       "      <td>1</td>\n",
       "    </tr>\n",
       "    <tr>\n",
       "      <th>...</th>\n",
       "      <td>...</td>\n",
       "      <td>...</td>\n",
       "      <td>...</td>\n",
       "    </tr>\n",
       "    <tr>\n",
       "      <th>995</th>\n",
       "      <td>-3.12</td>\n",
       "      <td>2.73</td>\n",
       "      <td>1</td>\n",
       "    </tr>\n",
       "    <tr>\n",
       "      <th>996</th>\n",
       "      <td>-65.45</td>\n",
       "      <td>-70.40</td>\n",
       "      <td>-1</td>\n",
       "    </tr>\n",
       "    <tr>\n",
       "      <th>997</th>\n",
       "      <td>84.33</td>\n",
       "      <td>37.81</td>\n",
       "      <td>1</td>\n",
       "    </tr>\n",
       "    <tr>\n",
       "      <th>998</th>\n",
       "      <td>24.54</td>\n",
       "      <td>24.47</td>\n",
       "      <td>1</td>\n",
       "    </tr>\n",
       "    <tr>\n",
       "      <th>999</th>\n",
       "      <td>23.00</td>\n",
       "      <td>-6.98</td>\n",
       "      <td>-1</td>\n",
       "    </tr>\n",
       "  </tbody>\n",
       "</table>\n",
       "<p>1000 rows × 3 columns</p>\n",
       "</div>"
      ],
      "text/plain": [
       "         x      y  value\n",
       "0    51.71  22.32      1\n",
       "1   -12.47 -54.61     -1\n",
       "2   -39.01 -97.90     -1\n",
       "3    10.86  64.75      1\n",
       "4    51.95  98.14      1\n",
       "..     ...    ...    ...\n",
       "995  -3.12   2.73      1\n",
       "996 -65.45 -70.40     -1\n",
       "997  84.33  37.81      1\n",
       "998  24.54  24.47      1\n",
       "999  23.00  -6.98     -1\n",
       "\n",
       "[1000 rows x 3 columns]"
      ]
     },
     "execution_count": 259,
     "metadata": {},
     "output_type": "execute_result"
    }
   ],
   "source": [
    "df2"
   ]
  },
  {
   "cell_type": "code",
   "execution_count": 260,
   "metadata": {},
   "outputs": [
    {
     "data": {
      "text/plain": [
       "891"
      ]
     },
     "execution_count": 260,
     "metadata": {},
     "output_type": "execute_result"
    }
   ],
   "source": [
    "testing(df2)"
   ]
  },
  {
   "cell_type": "code",
   "execution_count": 261,
   "metadata": {},
   "outputs": [],
   "source": [
    "def make_df(i):\n",
    "    x = []\n",
    "    y = []\n",
    "    value = []\n",
    "    random.seed(i)\n",
    "    for i in range(1000):\n",
    "        randX = random.randint(-10000, 10000)\n",
    "        randY = random.randint(-10000, 10000)\n",
    "        x.append(randX/100)\n",
    "        y.append(randY/100)\n",
    "        if y[i] > 1:\n",
    "            value.append(1)\n",
    "        else:\n",
    "            value.append(-1)\n",
    "\n",
    "    end = {'x': x, 'y': y, 'value': value}\n",
    "    df= pd.DataFrame(data=end,columns = ['x', 'y', 'value'])\n",
    "    return df"
   ]
  },
  {
   "cell_type": "code",
   "execution_count": null,
   "metadata": {},
   "outputs": [],
   "source": []
  },
  {
   "cell_type": "code",
   "execution_count": 262,
   "metadata": {},
   "outputs": [
    {
     "name": "stdout",
     "output_type": "stream",
     "text": [
      "[0.869 0.89  0.889 0.875 0.881 0.871 0.891 0.9   0.878 0.87  0.878 0.87\n",
      " 0.868 0.865 0.872 0.883 0.883 0.874 0.861 0.875 0.876 0.873 0.873 0.881\n",
      " 0.883 0.858 0.877 0.869 0.885 0.892 0.847 0.881 0.896 0.874 0.866 0.895\n",
      " 0.884 0.849 0.874 0.884 0.876 0.882 0.882 0.88  0.87  0.879 0.879 0.881\n",
      " 0.852 0.871 0.876 0.885 0.862 0.882 0.878 0.872 0.893 0.874 0.876 0.888\n",
      " 0.861 0.872 0.86  0.871 0.888 0.875 0.886 0.851 0.869 0.893 0.866 0.879\n",
      " 0.873 0.887 0.871 0.872 0.898 0.873 0.876 0.876 0.881 0.876 0.882 0.877\n",
      " 0.885 0.849 0.874 0.877 0.873 0.884 0.891 0.889 0.872 0.882 0.871 0.876\n",
      " 0.894 0.881 0.873 0.887]\n",
      "min= 0.847 max= 0.9 avg= 0.8766900000000001\n"
     ]
    }
   ],
   "source": [
    "arr =np.array([])\n",
    "for i in range(0,100):\n",
    "    data=make_df(i)\n",
    "    correct=testing(data)\n",
    "    correct=correct/1000\n",
    "    arr=np.append(correct, arr)\n",
    "print(arr)\n",
    "max=np.max(arr)\n",
    "min=np.min(arr)\n",
    "avg=np.average(arr)\n",
    "print(\"min=\", min, \"max=\", max, \"avg=\", avg)"
   ]
  },
  {
   "cell_type": "code",
   "execution_count": null,
   "metadata": {},
   "outputs": [],
   "source": []
  }
 ],
 "metadata": {
  "kernelspec": {
   "display_name": "Python 3",
   "language": "python",
   "name": "python3"
  },
  "language_info": {
   "codemirror_mode": {
    "name": "ipython",
    "version": 3
   },
   "file_extension": ".py",
   "mimetype": "text/x-python",
   "name": "python",
   "nbconvert_exporter": "python",
   "pygments_lexer": "ipython3",
   "version": "3.8.3"
  }
 },
 "nbformat": 4,
 "nbformat_minor": 4
}
