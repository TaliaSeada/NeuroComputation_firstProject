{
 "cells": [
  {
   "cell_type": "markdown",
   "metadata": {},
   "source": [
    "# Part A:"
   ]
  },
  {
   "cell_type": "code",
   "execution_count": 1,
   "metadata": {},
   "outputs": [],
   "source": [
    "#libraries\n",
    "import numpy as np \n",
    "import pandas as pd\n",
    "import cv2\n",
    "import seaborn as sns\n",
    "import random\n",
    "\n",
    "#preproccesing\n",
    "from sklearn.metrics import classification_report,f1_score\n",
    "from sklearn.metrics import accuracy_score\n",
    "from sklearn import metrics\n",
    "from sklearn.metrics import confusion_matrix\n",
    "\n",
    "# visulization\n",
    "import matplotlib.pyplot as plt\n",
    "%matplotlib inline\n",
    "\n",
    "import warnings\n",
    "warnings.filterwarnings('ignore')"
   ]
  },
  {
   "cell_type": "markdown",
   "metadata": {},
   "source": [
    "## Adaline Algorithm:\n",
    "<b> Adaline: </b>"
   ]
  },
  {
   "cell_type": "code",
   "execution_count": 2,
   "metadata": {},
   "outputs": [],
   "source": [
    "class Adaline:\n",
    "    def __init__(self, learning_rate, train):\n",
    "        self.learning_rate = learning_rate\n",
    "        self.train = train\n",
    "\n",
    "    def _weight_genarate(self):\n",
    "        weight = []\n",
    "        for i in range(2):\n",
    "            random.seed(i)\n",
    "            rand = random.uniform(0, 0.01)\n",
    "            rand = round(rand, 4)\n",
    "            weight.append(rand)\n",
    "\n",
    "        random.seed(4)\n",
    "        bias = random.uniform(0, 1)\n",
    "        bias = round(bias, 4)\n",
    "        return weight, bias\n",
    "\n",
    "    def fit(self):\n",
    "        EPS = 0.000001\n",
    "        weight, bias = self._weight_genarate()\n",
    "\n",
    "        for index, row in self.train.iterrows():\n",
    "            predicted = bias + row['x'] * weight[0] + row['y'] * weight[1]\n",
    "\n",
    "            weight[0] = round((weight[0] + self.learning_rate * (row['value'] - predicted) * row['x']), 3)\n",
    "            weight[1] = round((weight[1] + self.learning_rate * (row['value'] - predicted) * row['y']), 3)\n",
    "            bias = round((bias + self.learning_rate * (row['value'] - predicted)), 3)\n",
    "\n",
    "            # error calc\n",
    "            error = (row['value'] - predicted) ** 2\n",
    "            if error <= EPS or error == 0:\n",
    "                break\n",
    "        return weight, bias\n",
    "\n",
    "    def predict(self, test, weight, bias):\n",
    "        count = 0\n",
    "        pred = []\n",
    "        for index, row in test.iterrows():\n",
    "            prediction = bias + (row['x'] * weight[0]) + (row['y'] * weight[1])\n",
    "            if prediction > 0:\n",
    "                prediction = 1\n",
    "            else:\n",
    "                prediction = -1\n",
    "            pred.append(prediction)\n",
    "\n",
    "            if prediction == row['value']:\n",
    "                count += 1\n",
    "\n",
    "        test['predict'] = pred\n",
    "        return count\n",
    "\n",
    "    def score(self, pred, test):\n",
    "        acurr = pred / len(test)\n",
    "        res = round(acurr, 4)\n",
    "        return res"
   ]
  },
  {
   "cell_type": "markdown",
   "metadata": {},
   "source": [
    "<b> Main: </b>"
   ]
  },
  {
   "cell_type": "code",
   "execution_count": 3,
   "metadata": {},
   "outputs": [],
   "source": [
    "def build_data_partA(i):\n",
    "    x = []\n",
    "    y = []\n",
    "    value = []\n",
    "    random.seed(i)\n",
    "    for i in range(1000):\n",
    "        randX = random.randint(-10000, 10000)\n",
    "        randY = random.randint(-10000, 10000)\n",
    "        x.append(randX / 100)\n",
    "        y.append(randY / 100)\n",
    "        if y[i] > 1:\n",
    "            value.append(1)\n",
    "        else:\n",
    "            value.append(-1)\n",
    "\n",
    "    end = {'x': x, 'y': y, 'value': value}\n",
    "    df = pd.DataFrame(data=end, columns=['x', 'y', 'value'])\n",
    "    return df"
   ]
  },
  {
   "cell_type": "code",
   "execution_count": 4,
   "metadata": {},
   "outputs": [],
   "source": [
    "def build_data_partB(i):\n",
    "    x = []\n",
    "    y = []\n",
    "    value = []\n",
    "    random.seed(i)\n",
    "    for i in range(1000):\n",
    "        randX = random.randint(-10000, 10000)\n",
    "        randY = random.randint(-10000, 10000)\n",
    "        x.append(randX / 100)\n",
    "        y.append(randY / 100)\n",
    "        if 4 <= (y[i] ** 2 + x[i] ** 2) <= 9:\n",
    "            value.append(1)\n",
    "        else:\n",
    "            value.append(-1)\n",
    "\n",
    "    end = {'x': x, 'y': y, 'value': value}\n",
    "    df = pd.DataFrame(data=end, columns=['x', 'y', 'value'])\n",
    "    return df\n"
   ]
  },
  {
   "cell_type": "code",
   "execution_count": 5,
   "metadata": {},
   "outputs": [],
   "source": [
    "def plotting(test):\n",
    "    f, ax = plt.subplots(1, 2)\n",
    "    ax[0].set_title(\"value\")\n",
    "    ax[1].set_title(\"predict\")\n",
    "\n",
    "    for index, row in test.iterrows():\n",
    "        if row['value'] == 1:\n",
    "            ax[0].plot(row['x'], row['y'], markersize=2, marker=\"o\", color=\"blue\")\n",
    "        else:\n",
    "            ax[0].plot(row['x'], row['y'], markersize=2, marker=\"o\", color=\"red\")\n",
    "        if row['predict'] == 1:\n",
    "            ax[1].plot(row['x'], row['y'], markersize=2, marker=\"o\", color=\"blue\")\n",
    "        else:\n",
    "            ax[1].plot(row['x'], row['y'], markersize=2, marker=\"o\", color=\"red\")\n",
    "    plt.show()"
   ]
  },
  {
   "cell_type": "code",
   "execution_count": 6,
   "metadata": {},
   "outputs": [],
   "source": [
    "def main():\n",
    "    part = input(\"Enter the relevant part (A or B): \")\n",
    "\n",
    "    # part A\n",
    "    if part == 'A':\n",
    "        train = build_data_partA(1)\n",
    "        test = build_data_partA(9)\n",
    "        ada = Adaline(0.0001, train)\n",
    "        weight, bias = ada.fit()\n",
    "        ada_pred = ada.predict(test, weight, bias)\n",
    "        ada_score = ada.score(ada_pred, test)\n",
    "        print(\"Acurracy score:\", ada_score * 100)\n",
    "        plotting(test)\n",
    "\n",
    "    # part B\n",
    "    elif part == 'B':\n",
    "        train = build_data_partB(9)\n",
    "        test = build_data_partB(1)\n",
    "        ada = Adaline(0.001, train)\n",
    "        weight, bias = ada.fit()\n",
    "        ada_pred = ada.predict(test, weight, bias)\n",
    "        ada_score = ada.score(ada_pred, test)\n",
    "        print(\"Acurracy score:\", ada_score * 100)\n",
    "        plotting(test)\n",
    "\n",
    "    else:\n",
    "        print(\"Not Valid\")"
   ]
  },
  {
   "cell_type": "code",
   "execution_count": 7,
   "metadata": {},
   "outputs": [
    {
     "name": "stdout",
     "output_type": "stream",
     "text": [
      "Enter the relevant part (A or B): A\n",
      "Acurracy score: 94.89999999999999\n"
     ]
    },
    {
     "data": {
      "image/png": "[encoded data removed]",
      "text/plain": [
       "<Figure size 432x288 with 2 Axes>"
      ]
     },
     "metadata": {
      "needs_background": "light"
     },
     "output_type": "display_data"
    }
   ],
   "source": [
    "main()"
   ]
  },
  {
   "cell_type": "code",
   "execution_count": 8,
   "metadata": {},
   "outputs": [
    {
     "name": "stdout",
     "output_type": "stream",
     "text": [
      "Enter the relevant part (A or B): B\n",
      "Acurracy score: 99.9\n"
     ]
    },
    {
     "data": {
      "image/png": "[encoded data removed]",
      "text/plain": [
       "<Figure size 432x288 with 2 Axes>"
      ]
     },
     "metadata": {
      "needs_background": "light"
     },
     "output_type": "display_data"
    }
   ],
   "source": [
    "main()"
   ]
  },
  {
   "cell_type": "code",
   "execution_count": null,
   "metadata": {},
   "outputs": [],
   "source": []
  },
  {
   "cell_type": "code",
   "execution_count": null,
   "metadata": {},
   "outputs": [],
   "source": []
  },
  {
   "cell_type": "code",
   "execution_count": null,
   "metadata": {},
   "outputs": [],
   "source": []
  },
  {
   "cell_type": "code",
   "execution_count": null,
   "metadata": {},
   "outputs": [],
   "source": []
  },
  {
   "cell_type": "code",
   "execution_count": null,
   "metadata": {},
   "outputs": [],
   "source": []
  },
  {
   "cell_type": "code",
   "execution_count": null,
   "metadata": {},
   "outputs": [],
   "source": []
  },
  {
   "cell_type": "code",
   "execution_count": null,
   "metadata": {},
   "outputs": [],
   "source": []
  },
  {
   "cell_type": "code",
   "execution_count": null,
   "metadata": {},
   "outputs": [],
   "source": []
  },
  {
   "cell_type": "code",
   "execution_count": null,
   "metadata": {},
   "outputs": [],
   "source": []
  },
  {
   "cell_type": "code",
   "execution_count": null,
   "metadata": {},
   "outputs": [],
   "source": []
  },
  {
   "cell_type": "code",
   "execution_count": null,
   "metadata": {},
   "outputs": [],
   "source": []
  },
  {
   "cell_type": "code",
   "execution_count": null,
   "metadata": {},
   "outputs": [],
   "source": []
  },
  {
   "cell_type": "code",
   "execution_count": null,
   "metadata": {},
   "outputs": [],
   "source": []
  },
  {
   "cell_type": "code",
   "execution_count": null,
   "metadata": {},
   "outputs": [],
   "source": []
  },
  {
   "cell_type": "code",
   "execution_count": null,
   "metadata": {},
   "outputs": [],
   "source": []
  },
  {
   "cell_type": "code",
   "execution_count": null,
   "metadata": {},
   "outputs": [],
   "source": []
  },
  {
   "cell_type": "code",
   "execution_count": null,
   "metadata": {},
   "outputs": [],
   "source": []
  },
  {
   "cell_type": "code",
   "execution_count": null,
   "metadata": {},
   "outputs": [],
   "source": []
  },
  {
   "cell_type": "code",
   "execution_count": null,
   "metadata": {},
   "outputs": [],
   "source": []
  },
  {
   "cell_type": "code",
   "execution_count": null,
   "metadata": {},
   "outputs": [],
   "source": []
  },
  {
   "cell_type": "code",
   "execution_count": null,
   "metadata": {},
   "outputs": [],
   "source": []
  },
  {
   "cell_type": "code",
   "execution_count": null,
   "metadata": {},
   "outputs": [],
   "source": []
  },
  {
   "cell_type": "code",
   "execution_count": null,
   "metadata": {},
   "outputs": [],
   "source": []
  },
  {
   "cell_type": "code",
   "execution_count": null,
   "metadata": {},
   "outputs": [],
   "source": []
  },
  {
   "cell_type": "code",
   "execution_count": null,
   "metadata": {},
   "outputs": [],
   "source": []
  },
  {
   "cell_type": "code",
   "execution_count": null,
   "metadata": {},
   "outputs": [],
   "source": []
  },
  {
   "cell_type": "code",
   "execution_count": null,
   "metadata": {},
   "outputs": [],
   "source": []
  },
  {
   "cell_type": "code",
   "execution_count": null,
   "metadata": {},
   "outputs": [],
   "source": []
  },
  {
   "cell_type": "code",
   "execution_count": null,
   "metadata": {},
   "outputs": [],
   "source": []
  },
  {
   "cell_type": "code",
   "execution_count": null,
   "metadata": {},
   "outputs": [],
   "source": []
  },
  {
   "cell_type": "code",
   "execution_count": null,
   "metadata": {},
   "outputs": [],
   "source": []
  },
  {
   "cell_type": "code",
   "execution_count": null,
   "metadata": {},
   "outputs": [],
   "source": []
  },
  {
   "cell_type": "code",
   "execution_count": null,
   "metadata": {},
   "outputs": [],
   "source": []
  },
  {
   "cell_type": "code",
   "execution_count": null,
   "metadata": {},
   "outputs": [],
   "source": []
  },
  {
   "cell_type": "code",
   "execution_count": null,
   "metadata": {},
   "outputs": [],
   "source": []
  },
  {
   "cell_type": "code",
   "execution_count": null,
   "metadata": {},
   "outputs": [],
   "source": []
  },
  {
   "cell_type": "code",
   "execution_count": null,
   "metadata": {},
   "outputs": [],
   "source": []
  },
  {
   "cell_type": "code",
   "execution_count": null,
   "metadata": {},
   "outputs": [],
   "source": []
  },
  {
   "cell_type": "code",
   "execution_count": null,
   "metadata": {},
   "outputs": [],
   "source": []
  },
  {
   "cell_type": "code",
   "execution_count": null,
   "metadata": {},
   "outputs": [],
   "source": []
  },
  {
   "cell_type": "code",
   "execution_count": null,
   "metadata": {},
   "outputs": [],
   "source": []
  },
  {
   "cell_type": "code",
   "execution_count": null,
   "metadata": {},
   "outputs": [],
   "source": []
  },
  {
   "cell_type": "code",
   "execution_count": null,
   "metadata": {},
   "outputs": [],
   "source": []
  },
  {
   "cell_type": "code",
   "execution_count": null,
   "metadata": {},
   "outputs": [],
   "source": []
  },
  {
   "cell_type": "code",
   "execution_count": null,
   "metadata": {},
   "outputs": [],
   "source": []
  },
  {
   "cell_type": "code",
   "execution_count": null,
   "metadata": {},
   "outputs": [],
   "source": []
  },
  {
   "cell_type": "code",
   "execution_count": null,
   "metadata": {},
   "outputs": [],
   "source": []
  }
 ],
 "metadata": {
  "kernelspec": {
   "display_name": "Python 3",
   "language": "python",
   "name": "python3"
  },
  "language_info": {
   "codemirror_mode": {
    "name": "ipython",
    "version": 3
   },
   "file_extension": ".py",
   "mimetype": "text/x-python",
   "name": "python",
   "nbconvert_exporter": "python",
   "pygments_lexer": "ipython3",
   "version": "3.8.3"
  }
 },
 "nbformat": 4,
 "nbformat_minor": 4
}
