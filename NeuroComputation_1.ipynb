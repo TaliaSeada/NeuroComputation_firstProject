{
 "cells": [
  {
   "cell_type": "markdown",
   "metadata": {},
   "source": [
    "# Part A:"
   ]
  },
  {
   "cell_type": "code",
   "execution_count": 1,
   "metadata": {},
   "outputs": [],
   "source": [
    "#libraries\n",
    "import numpy as np \n",
    "import pandas as pd\n",
    "import cv2\n",
    "import seaborn as sns\n",
    "import random\n",
    "\n",
    "#preproccesing\n",
    "from sklearn.metrics import classification_report,f1_score\n",
    "from sklearn.metrics import accuracy_score\n",
    "from sklearn import metrics\n",
    "from sklearn.metrics import confusion_matrix\n",
    "\n",
    "# visulization\n",
    "import matplotlib.pyplot as plt\n",
    "%matplotlib inline\n",
    "\n",
    "import warnings\n",
    "warnings.filterwarnings('ignore')"
   ]
  },
  {
   "cell_type": "markdown",
   "metadata": {},
   "source": [
    "## Building the training data"
   ]
  },
  {
   "cell_type": "code",
   "execution_count": 2,
   "metadata": {},
   "outputs": [],
   "source": [
    "# x = []\n",
    "# y = []\n",
    "# value = []\n",
    "# for i in range(1000):\n",
    "#     randX = random.randint(-10000, 10000)\n",
    "#     randY = random.randint(-10000, 10000)\n",
    "#     x.append(randX/100)\n",
    "#     y.append(randY/100)\n",
    "#     if y[i] > 1:\n",
    "#         value.append(1)\n",
    "#     else:\n",
    "#         value.append(-1)\n",
    "\n",
    "# end = {'x': x, 'y': y, 'value': value}\n",
    "# df= pd.DataFrame(data=end,\n",
    "#                 columns = ['x', 'y', 'value'])"
   ]
  },
  {
   "cell_type": "code",
   "execution_count": null,
   "metadata": {},
   "outputs": [],
   "source": [
    "# df.to_csv(r'C:\\Users\\talia\\NN\\trainingDF.csv', index = False)"
   ]
  },
  {
   "cell_type": "markdown",
   "metadata": {},
   "source": [
    "## Building the first test data"
   ]
  },
  {
   "cell_type": "code",
   "execution_count": null,
   "metadata": {},
   "outputs": [],
   "source": [
    "# x = []\n",
    "# y = []\n",
    "# value = []\n",
    "# for i in range(1000):\n",
    "#     randX = random.randint(-10000, 10000)\n",
    "#     randY = random.randint(-10000, 10000)\n",
    "#     x.append(randX/100)\n",
    "#     y.append(randY/100)\n",
    "#     if y[i] > 1:\n",
    "#         value.append(1)\n",
    "#     else:\n",
    "#         value.append(-1)\n",
    "\n",
    "# end = {'x': x, 'y': y, 'value': value}\n",
    "# df= pd.DataFrame(data=end,\n",
    "#                 columns = ['x', 'y', 'value'])"
   ]
  },
  {
   "cell_type": "code",
   "execution_count": 3,
   "metadata": {},
   "outputs": [],
   "source": [
    "# df.to_csv(r'C:\\Users\\talia\\NN\\firstTestDF.csv', index = False)"
   ]
  },
  {
   "cell_type": "markdown",
   "metadata": {},
   "source": [
    "## Building the second test data"
   ]
  },
  {
   "cell_type": "code",
   "execution_count": 4,
   "metadata": {},
   "outputs": [],
   "source": [
    "# x = []\n",
    "# y = []\n",
    "# value = []\n",
    "# for i in range(1000):\n",
    "#     randX = random.randint(-10000, 10000)\n",
    "#     randY = random.randint(-10000, 10000)\n",
    "#     x.append(randX/100)\n",
    "#     y.append(randY/100)\n",
    "#     if y[i] > 1:\n",
    "#         value.append(1)\n",
    "#     else:\n",
    "#         value.append(-1)\n",
    "\n",
    "# end = {'x': x, 'y': y, 'value': value}\n",
    "# df= pd.DataFrame(data=end,\n",
    "#                 columns = ['x', 'y', 'value'])"
   ]
  },
  {
   "cell_type": "markdown",
   "metadata": {},
   "source": [
    "### DataFrames:"
   ]
  },
  {
   "cell_type": "code",
   "execution_count": null,
   "metadata": {},
   "outputs": [],
   "source": [
    "train = pd.read_csv(r'C:\\Users\\talia\\NN\\trainingDF.csv')\n",
    "first_test = pd.read_csv(r'C:\\Users\\talia\\NN\\firstTestDF.csv')\n",
    "second_test = pd.read_csv(r'C:\\Users\\talia\\NN\\secondTestDF.csv')"
   ]
  },
  {
   "cell_type": "code",
   "execution_count": null,
   "metadata": {},
   "outputs": [],
   "source": [
    "plt.figure(figsize = (6,6))\n",
    "sns.countplot(x = \"value\", data = train)"
   ]
  },
  {
   "cell_type": "code",
   "execution_count": null,
   "metadata": {},
   "outputs": [],
   "source": [
    "plt.figure(figsize = (6,6))\n",
    "sns.countplot(x = \"value\", data = first_test)"
   ]
  },
  {
   "cell_type": "code",
   "execution_count": null,
   "metadata": {},
   "outputs": [],
   "source": [
    "plt.figure(figsize = (6,6))\n",
    "sns.countplot(x = \"value\", data = second_test)"
   ]
  },
  {
   "cell_type": "markdown",
   "metadata": {},
   "source": [
    "## Adaline Algorithm:"
   ]
  },
  {
   "cell_type": "code",
   "execution_count": null,
   "metadata": {},
   "outputs": [],
   "source": []
  },
  {
   "cell_type": "code",
   "execution_count": null,
   "metadata": {},
   "outputs": [],
   "source": []
  },
  {
   "cell_type": "code",
   "execution_count": null,
   "metadata": {},
   "outputs": [],
   "source": []
  },
  {
   "cell_type": "code",
   "execution_count": null,
   "metadata": {},
   "outputs": [],
   "source": []
  },
  {
   "cell_type": "code",
   "execution_count": null,
   "metadata": {},
   "outputs": [],
   "source": []
  }
 ],
 "metadata": {
  "kernelspec": {
   "display_name": "Python 3",
   "language": "python",
   "name": "python3"
  },
  "language_info": {
   "codemirror_mode": {
    "name": "ipython",
    "version": 3
   },
   "file_extension": ".py",
   "mimetype": "text/x-python",
   "name": "python",
   "nbconvert_exporter": "python",
   "pygments_lexer": "ipython3",
   "version": "3.8.3"
  }
 },
 "nbformat": 4,
 "nbformat_minor": 4
}
