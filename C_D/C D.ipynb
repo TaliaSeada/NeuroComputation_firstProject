{
 "cells": [
  {
   "cell_type": "code",
   "execution_count": null,
   "metadata": {},
   "outputs": [],
   "source": []
  },
  {
   "cell_type": "code",
   "execution_count": null,
   "metadata": {},
   "outputs": [],
   "source": []
  },
  {
   "cell_type": "code",
   "execution_count": 1,
   "metadata": {},
   "outputs": [],
   "source": [
    "# \"\"\"\n",
    "# network.py\n",
    "# ~~~~~~~~~~\n",
    "# A module to implement the stochastic gradient descent learning\n",
    "# algorithm for a feedforward neural network.  Gradients are calculated\n",
    "# using backpropagation.  Note that I have focused on making the code\n",
    "# simple, easily readable, and easily modifiable.  It is not optimized,\n",
    "# and omits many desirable features.\n",
    "# \"\"\"\n",
    "\n",
    "# #### Libraries\n",
    "# # Standard library\n",
    "# import random\n",
    "\n",
    "# # Third-party libraries\n",
    "# import numpy as np\n",
    "\n",
    "# class Network(object):\n",
    "\n",
    "#     def __init__(self, sizes):\n",
    "#         \"\"\"The list ``sizes`` contains the number of neurons in the\n",
    "#         respective layers of the network.  For example, if the list\n",
    "#         was [2, 3, 1] then it would be a three-layer network, with the\n",
    "#         first layer containing 2 neurons, the second layer 3 neurons,\n",
    "#         and the third layer 1 neuron.  The biases and weights for the\n",
    "#         network are initialized randomly, using a Gaussian\n",
    "#         distribution with mean 0, and variance 1.  Note that the first\n",
    "#         layer is assumed to be an input layer, and by convention we\n",
    "#         won't set any biases for those neurons, since biases are only\n",
    "#         ever used in computing the outputs from later layers.\"\"\"\n",
    "#         self.num_layers = len(sizes)\n",
    "#         self.sizes = sizes\n",
    "#         random.seed(1)\n",
    "#         self.biases = [np.random.randn(y, 1) for y in sizes[1:]]\n",
    "# #         print(biases)\n",
    "#         self.weights = [np.random.randn(y, x)\n",
    "#                         for x, y in zip(sizes[:-1], sizes[1:])]\n",
    "# #         print(weights)\n",
    "\n",
    "#     def feedforward(self, a):\n",
    "#         \"\"\"Return the output of the network if ``a`` is input.\"\"\"\n",
    "#         for b, w in zip(self.biases, self.weights):\n",
    "#             a = sigmoid(np.dot(w, a)+b)\n",
    "#         return a\n",
    "\n",
    "#     def SGD(self, training_data, epochs, mini_batch_size, eta,\n",
    "#             test_data=None):\n",
    "#         \"\"\"Train the neural network using mini-batch stochastic\n",
    "#         gradient descent.  The ``training_data`` is a list of tuples\n",
    "#         ``(x, y)`` representing the training inputs and the desired\n",
    "#         outputs.  The other non-optional parameters are\n",
    "#         self-explanatory.  If ``test_data`` is provided then the\n",
    "#         network will be evaluated against the test data after each\n",
    "#         epoch, and partial progress printed out.  This is useful for\n",
    "#         tracking progress, but slows things down substantially.\"\"\"\n",
    "#         if test_data: n_test = len(test_data)\n",
    "#         n = len(training_data)\n",
    "#         for j in range(epochs):\n",
    "#             random.seed(j)\n",
    "#             random.shuffle(training_data)\n",
    "#             mini_batches = [\n",
    "#                 training_data[k:k+mini_batch_size]\n",
    "#                 for k in range(0, n, mini_batch_size)]\n",
    "#             for mini_batch in mini_batches:\n",
    "#                 self.update_mini_batch(mini_batch, eta)\n",
    "#             if test_data:\n",
    "#                 print (\"Epoch {0}: {1} / {2}\".format(\n",
    "#                     j, self.evaluate(test_data), n_test))\n",
    "# #             else:\n",
    "# #                 print (\"Epoch {0} complete\".format(j))\n",
    "\n",
    "#     def update_mini_batch(self, mini_batch, eta):\n",
    "#         \"\"\"Update the network's weights and biases by applying\n",
    "#         gradient descent using backpropagation to a single mini batch.\n",
    "#         The ``mini_batch`` is a list of tuples ``(x, y)``, and ``eta``\n",
    "#         is the learning rate.\"\"\"\n",
    "#         nabla_b = [np.zeros(b.shape) for b in self.biases]\n",
    "#         nabla_w = [np.zeros(w.shape) for w in self.weights]\n",
    "#         for x, y in mini_batch:\n",
    "#             delta_nabla_b, delta_nabla_w = self.backprop(x, y)\n",
    "#             nabla_b = [nb+dnb for nb, dnb in zip(nabla_b, delta_nabla_b)]\n",
    "#             nabla_w = [nw+dnw for nw, dnw in zip(nabla_w, delta_nabla_w)]\n",
    "#         self.weights = [w-(eta/len(mini_batch))*nw\n",
    "#                         for w, nw in zip(self.weights, nabla_w)]\n",
    "#         self.biases = [b-(eta/len(mini_batch))*nb\n",
    "#                        for b, nb in zip(self.biases, nabla_b)]\n",
    "\n",
    "#     def backprop(self, x, y):\n",
    "#         \"\"\"Return a tuple ``(nabla_b, nabla_w)`` representing the\n",
    "#         gradient for the cost function C_x.  ``nabla_b`` and\n",
    "#         ``nabla_w`` are layer-by-layer lists of numpy arrays, similar\n",
    "#         to ``self.biases`` and ``self.weights``.\"\"\"\n",
    "#         nabla_b = [np.zeros(b.shape) for b in self.biases]\n",
    "#         nabla_w = [np.zeros(w.shape) for w in self.weights]\n",
    "#         # feedforward\n",
    "#         activation = x\n",
    "#         activations = [x] # list to store all the activations, layer by layer\n",
    "#         zs = [] # list to store all the z vectors, layer by layer\n",
    "#         for b, w in zip(self.biases, self.weights):\n",
    "#             z = np.dot(w, activation)+b\n",
    "#             zs.append(z)\n",
    "#             activation = sigmoid(z)\n",
    "#             activations.append(activation)\n",
    "#         # backward pass\n",
    "#         delta = self.cost_derivative(activations[-1], y) * \\\n",
    "#             sigmoid_prime(zs[-1])\n",
    "#         nabla_b[-1] = delta\n",
    "#         nabla_w[-1] = np.dot(delta, activations[-2].transpose())\n",
    "#         # Note that the variable l in the loop below is used a little\n",
    "#         # differently to the notation in Chapter 2 of the book.  Here,\n",
    "#         # l = 1 means the last layer of neurons, l = 2 is the\n",
    "#         # second-last layer, and so on.  It's a renumbering of the\n",
    "#         # scheme in the book, used here to take advantage of the fact\n",
    "#         # that Python can use negative indices in lists.\n",
    "#         for l in range(2, self.num_layers):\n",
    "#             z = zs[-l]\n",
    "#             sp = sigmoid_prime(z)\n",
    "#             delta = np.dot(self.weights[-l+1].transpose(), delta) * sp\n",
    "#             nabla_b[-l] = delta\n",
    "#             nabla_w[-l] = np.dot(delta, activations[-l-1].transpose())\n",
    "#         return (nabla_b, nabla_w)\n",
    "\n",
    "#     def evaluate(self, test_data):\n",
    "#         \"\"\"Return the number of test inputs for which the neural\n",
    "#         network outputs the correct result. Note that the neural\n",
    "#         network's output is assumed to be the index of whichever\n",
    "#         neuron in the final layer has the highest activation.\"\"\"\n",
    "#         test_results = [(np.argmax(self.feedforward(x)), y)\n",
    "#                         for (x, y) in test_data]\n",
    "#         return sum(int(x == y) for (x, y) in test_results)\n",
    "\n",
    "#     def cost_derivative(self, output_activations, y):\n",
    "#         \"\"\"Return the vector of partial derivatives \\partial C_x /\n",
    "#         \\partial a for the output activations.\"\"\"\n",
    "#         return (output_activations-y)\n",
    "\n",
    "# #### Miscellaneous functions\n",
    "# def sigmoid(z):\n",
    "#     \"\"\"The sigmoid function.\"\"\"\n",
    "#     return 1.0/(1.0+np.exp(-z))\n",
    "\n",
    "# def sigmoid_prime(z):\n",
    "#     \"\"\"Derivative of the sigmoid function.\"\"\"\n",
    "#     return sigmoid(z)*(1-sigmoid(z))"
   ]
  },
  {
   "cell_type": "code",
   "execution_count": null,
   "metadata": {},
   "outputs": [],
   "source": []
  },
  {
   "cell_type": "code",
   "execution_count": null,
   "metadata": {},
   "outputs": [],
   "source": []
  },
  {
   "cell_type": "code",
   "execution_count": null,
   "metadata": {},
   "outputs": [],
   "source": []
  },
  {
   "cell_type": "code",
   "execution_count": 2,
   "metadata": {},
   "outputs": [],
   "source": [
    "#libraries\n",
    "import numpy as np \n",
    "import pandas as pd\n",
    "\n",
    "import random\n",
    "\n",
    "#preproccesing\n",
    "from sklearn.metrics import classification_report,f1_score\n",
    "from sklearn.metrics import confusion_matrix\n",
    "\n",
    "# visulization\n",
    "import matplotlib.pyplot as plt\n",
    "import seaborn as sns\n",
    "\n",
    "import warnings\n",
    "warnings.filterwarnings('ignore')"
   ]
  },
  {
   "cell_type": "code",
   "execution_count": 3,
   "metadata": {},
   "outputs": [],
   "source": [
    "# this function builds the data set for part A of the assighnment\n",
    "def build_data_partA(i):\n",
    "    x = []\n",
    "    y = []\n",
    "    value = []\n",
    "    random.seed(i)\n",
    "    for i in range(1000):\n",
    "        # generate two random numbers between -10000 to 10000\n",
    "        randX = random.randint(-10000, 10000)\n",
    "        randY = random.randint(-10000, 10000)\n",
    "        x.append(randX / 100)\n",
    "        y.append(randY / 100)\n",
    "        # for part A if y > 1 then the value is 1\n",
    "        if y[i] > 1:\n",
    "            value.append(1)\n",
    "        # else the value is -1\n",
    "        else:\n",
    "            value.append(-1)\n",
    "\n",
    "    # make the data frame\n",
    "    end = {'x': x, 'y': y, 'value': value}\n",
    "    df = pd.DataFrame(data=end, columns=['x', 'y', 'value'])\n",
    "    return df"
   ]
  },
  {
   "cell_type": "code",
   "execution_count": 4,
   "metadata": {},
   "outputs": [],
   "source": [
    "# this function builds the data set for part B of the assighnment\n",
    "def build_data_partB(i):\n",
    "    x = []\n",
    "    y = []\n",
    "    value = []\n",
    "    random.seed(i)\n",
    "    for i in range(700):\n",
    "        # generate two random numbers between -10000 to 10000\n",
    "        randX = random.randint(-10000, 10000)\n",
    "        randY = random.randint(-10000, 10000)\n",
    "        x.append(randX / 100)\n",
    "        y.append(randY / 100)\n",
    "        # for part A if (4 <= y^2 + x^2 <= 9) then the value is 1\n",
    "        if 4 <= (y[i] ** 2 + x[i] ** 2) <= 9:\n",
    "#         if 25<=(y[i]**2+x[i]**2)>=2500:\n",
    "            value.append(1)\n",
    "        # else the value is -1\n",
    "        else:\n",
    "            value.append(-1)\n",
    "    for i in range(700,1000):\n",
    "        # generate two random numbers between -10000 to 10000\n",
    "        randX = random.randint(-300, 300)\n",
    "        randY = random.randint(-300, 300)\n",
    "        x.append(randX / 100)\n",
    "        y.append(randY / 100)\n",
    "        # for part A if (4 <= y^2 + x^2 <= 9) then the value is 1\n",
    "        if 4 <= (y[i] ** 2 + x[i] ** 2) <= 9:\n",
    "#         if 25<=(y[i]**2+x[i]**2)>=2500:\n",
    "            value.append(1)\n",
    "        # else the value is -1\n",
    "        else:\n",
    "            value.append(-1)\n",
    "\n",
    "    # make the data frame\n",
    "    end = {'x': x, 'y': y, 'value': value}\n",
    "    df = pd.DataFrame(data=end, columns=['x', 'y', 'value'])\n",
    "    return df\n"
   ]
  },
  {
   "cell_type": "code",
   "execution_count": 5,
   "metadata": {},
   "outputs": [],
   "source": [
    "# this function plots the values of the actual values of the data compared to the prediction values we predicted\n",
    "def plotting_test(test):\n",
    "    f, ax = plt.subplots(1, 2)\n",
    "    ax[0].set_title(\"value\")\n",
    "    ax[1].set_title(\"predict\")\n",
    "\n",
    "    for index, row in test.iterrows():\n",
    "        if row['value'] == 1:\n",
    "            ax[0].plot(row['x'], row['y'], markersize=2, marker=\"o\", color=\"blue\")\n",
    "        else:\n",
    "            ax[0].plot(row['x'], row['y'], markersize=2, marker=\"o\", color=\"red\")\n",
    "        if row['pred'] == 1:\n",
    "            ax[1].plot(row['x'], row['y'], markersize=2, marker=\"o\", color=\"blue\")\n",
    "        else:\n",
    "            ax[1].plot(row['x'], row['y'], markersize=2, marker=\"o\", color=\"red\")\n",
    "    plt.show()\n",
    "\n",
    "def plotting_train(train):\n",
    "    for index, row in train.iterrows():\n",
    "        if row['value'] == 1:\n",
    "            plt.plot(row['x'], row['y'], markersize=2, marker=\"o\", color=\"blue\")\n",
    "        else:\n",
    "            plt.plot(row['x'], row['y'], markersize=2, marker=\"o\", color=\"red\")\n",
    "    plt.show()"
   ]
  },
  {
   "cell_type": "code",
   "execution_count": 6,
   "metadata": {},
   "outputs": [],
   "source": [
    "# this function plots the confussion matrix\n",
    "def confussion_matrix (cf_matrix):\n",
    "    group_names = ['true pos', 'false pos', 'false neg', 'true neg']\n",
    "    group_counts = [\"{0:0.0f}\".format(value) for value in cf_matrix.flatten()]\n",
    "    group_percentages = [\"{0:.2%}\".format(value) for value in cf_matrix.flatten()/np.sum(cf_matrix)]\n",
    "    labels = [f\"{v1}\\n{v2}\\n{v3}\" for v1, v2, v3 in zip(group_names,group_counts,group_percentages)]\n",
    "    labels = np.asarray(labels).reshape(2,2)\n",
    "    sns.heatmap(cf_matrix, annot=labels, fmt='', cmap='Blues')"
   ]
  },
  {
   "cell_type": "code",
   "execution_count": 7,
   "metadata": {},
   "outputs": [],
   "source": [
    "# train = build_data_partA(1)\n",
    "# first_test = build_data_partA(9)\n",
    "# second_test = build_data_partA(8)\n",
    "\n",
    "# trainlist=[]\n",
    "# for index, row in train.iterrows():\n",
    "#     trainlist.append((np.array(row['x'],row['y']),row['value']))\n",
    "    \n",
    "# testlist1=[]\n",
    "# for index, row in first_test.iterrows():\n",
    "#     testlist1.append((np.array(row['x'],row['y']),row['value']))\n",
    "    \n",
    "# testlist2=[]\n",
    "# for index, row in second_test.iterrows():\n",
    "#     testlist2.append((np.array(row['x'],row['y']),row['value']))\n",
    "    \n",
    "\n",
    "# net1=Network([2,2,2])\n",
    "# net1.SGD(trainlist,100,125,0.01)\n",
    "# print(net1.evaluate(testlist1))\n",
    "# # print(net1.evaluate(testlist2))\n",
    "    "
   ]
  },
  {
   "cell_type": "code",
   "execution_count": null,
   "metadata": {},
   "outputs": [],
   "source": []
  },
  {
   "cell_type": "code",
   "execution_count": 8,
   "metadata": {},
   "outputs": [],
   "source": [
    "# import numpy as np\n",
    "# import pandas as pd\n",
    "# from sklearn.datasets import load_iris\n",
    "# from sklearn.model_selection import train_test_split\n",
    "# import matplotlib.pyplot as plt"
   ]
  },
  {
   "cell_type": "code",
   "execution_count": 9,
   "metadata": {},
   "outputs": [],
   "source": [
    "# # Loading dataset\n",
    "# data = load_iris()\n",
    "\n",
    "# # Dividing the dataset into target variable and features\n",
    "# X=data.data\n",
    "# y=data.target"
   ]
  },
  {
   "cell_type": "code",
   "execution_count": 10,
   "metadata": {},
   "outputs": [],
   "source": [
    "# X_train, X_test, y_train, y_test = train_test_split(X, y, test_size=20, random_state=4)\n"
   ]
  },
  {
   "cell_type": "code",
   "execution_count": 11,
   "metadata": {},
   "outputs": [],
   "source": [
    "# learning_rate = 0.1\n",
    "# iterations = 5000\n",
    "# N = y_train.size\n",
    " \n",
    "# # Input features\n",
    "# input_size = 4\n",
    " \n",
    "# # Hidden layers \n",
    "# hidden_size = 2\n",
    " \n",
    "# # Output layer\n",
    "# output_size = 3 \n",
    " \n",
    "# results = pd.DataFrame(columns=[\"mse\", \"accuracy\"])\n",
    "\n",
    "\n",
    "# np.random.seed(10)\n",
    " \n",
    "# # Hidden layer\n",
    "# W1 = np.random.normal(scale=0.5, size=(input_size, hidden_size))   \n",
    " \n",
    "# # Output layer\n",
    "# W2 = np.random.normal(scale=0.5, size=(hidden_size , output_size)) \n",
    "\n",
    "\n",
    "\n",
    "# def sigmoid(x):\n",
    "#     return 1 / (1 + np.exp(-x))\n",
    " \n",
    "# def mean_squared_error(y_pred, y_true):\n",
    "#     return ((y_pred - y_true)**2).sum() / (2*y_pred.size)\n",
    "     \n",
    "# def accuracy(y_pred, y_true):\n",
    "#     acc = y_pred.argmax(axis=1) == y_true.argmax(axis=1)\n",
    "#     return acc.mean()\n",
    "\n",
    "\n",
    "# for itr in range(iterations):    \n",
    "     \n",
    "#     # Implementing feedforward propagation on hidden layer\n",
    "#     Z1 = np.dot(X_train, W1)\n",
    "#     A1 = sigmoid(Z1)\n",
    "    \n",
    " \n",
    "#     # Implementing feed forward propagation on output layer\n",
    "#     Z2 = np.dot(A1, W2)\n",
    "#     A2 = sigmoid(Z2)\n",
    "    \n",
    "   \n",
    "#     print(A2.shape) \n",
    "#     print(y_train)\n",
    "    \n",
    "# #     a3=[]\n",
    "# #     for r in A2:\n",
    "# #         a3.append(max(r))\n",
    "    \n",
    "    \n",
    "# #     # Calculating the error\n",
    "# #     mse = mean_squared_error(a3, y_train)\n",
    "# #     acc = accuracy(a3, y_train)\n",
    "# #     results=results.append({\"mse\":mse, \"accuracy\":acc},ignore_index=True )\n",
    "     \n",
    "#     # Backpropagation phase\n",
    "#     E1 = A2 - y_train\n",
    "#     dW1 = E1 * A2 * (1 - A2)\n",
    " \n",
    "#     E2 = np.dot(dW1, W2.T)\n",
    "#     dW2 = E2 * A1 * (1 - A1)\n",
    " \n",
    "     \n",
    "#     # Updating the weights\n",
    "#     W2_update = np.dot(A1.T, dW1) / N\n",
    "#     W1_update = np.dot(X_train.T, dW2) / N\n",
    " \n",
    "#     W2 = W2 - learning_rate * W2_update\n",
    "#     W1 = W1 - learning_rate * W1_update\n",
    "    \n",
    "    \n",
    "# # results.mse.plot(title=\"Mean Squared Error\")   \n",
    "\n",
    "# Z1 = np.dot(X_test, W1)\n",
    "# A1 = sigmoid(Z1)\n",
    " \n",
    "# Z2 = np.dot(A1, W2)\n",
    "# A2 = sigmoid(Z2)\n",
    " \n",
    "# acc = accuracy(A2, y_test)\n",
    "# print(\"Accuracy: {}\".format(acc))\n"
   ]
  },
  {
   "cell_type": "code",
   "execution_count": 34,
   "metadata": {},
   "outputs": [],
   "source": [
    "# we got good results with 5,2\n"
   ]
  },
  {
   "cell_type": "code",
   "execution_count": 12,
   "metadata": {},
   "outputs": [],
   "source": [
    "from sklearn.neural_network import MLPClassifier"
   ]
  },
  {
   "cell_type": "code",
   "execution_count": 149,
   "metadata": {},
   "outputs": [],
   "source": [
    "clf = MLPClassifier(solver='lbfgs', alpha=0.001,hidden_layer_sizes=(5, 2), random_state=1)"
   ]
  },
  {
   "cell_type": "code",
   "execution_count": 150,
   "metadata": {},
   "outputs": [
    {
     "data": {
      "text/html": [
       "<div>\n",
       "<style scoped>\n",
       "    .dataframe tbody tr th:only-of-type {\n",
       "        vertical-align: middle;\n",
       "    }\n",
       "\n",
       "    .dataframe tbody tr th {\n",
       "        vertical-align: top;\n",
       "    }\n",
       "\n",
       "    .dataframe thead th {\n",
       "        text-align: right;\n",
       "    }\n",
       "</style>\n",
       "<table border=\"1\" class=\"dataframe\">\n",
       "  <thead>\n",
       "    <tr style=\"text-align: right;\">\n",
       "      <th></th>\n",
       "      <th>x</th>\n",
       "      <th>y</th>\n",
       "      <th>value</th>\n",
       "    </tr>\n",
       "  </thead>\n",
       "  <tbody>\n",
       "    <tr>\n",
       "      <th>0</th>\n",
       "      <td>-55.98</td>\n",
       "      <td>86.51</td>\n",
       "      <td>1</td>\n",
       "    </tr>\n",
       "    <tr>\n",
       "      <th>1</th>\n",
       "      <td>-79.33</td>\n",
       "      <td>-16.42</td>\n",
       "      <td>-1</td>\n",
       "    </tr>\n",
       "    <tr>\n",
       "      <th>2</th>\n",
       "      <td>-61.37</td>\n",
       "      <td>62.34</td>\n",
       "      <td>1</td>\n",
       "    </tr>\n",
       "    <tr>\n",
       "      <th>3</th>\n",
       "      <td>47.28</td>\n",
       "      <td>54.74</td>\n",
       "      <td>1</td>\n",
       "    </tr>\n",
       "    <tr>\n",
       "      <th>4</th>\n",
       "      <td>24.39</td>\n",
       "      <td>-31.21</td>\n",
       "      <td>-1</td>\n",
       "    </tr>\n",
       "  </tbody>\n",
       "</table>\n",
       "</div>"
      ],
      "text/plain": [
       "       x      y  value\n",
       "0 -55.98  86.51      1\n",
       "1 -79.33 -16.42     -1\n",
       "2 -61.37  62.34      1\n",
       "3  47.28  54.74      1\n",
       "4  24.39 -31.21     -1"
      ]
     },
     "execution_count": 150,
     "metadata": {},
     "output_type": "execute_result"
    }
   ],
   "source": [
    "train = build_data_partA(1)\n",
    "first_test = build_data_partA(9)\n",
    "second_test = build_data_partA(8)\n",
    "train.head()"
   ]
  },
  {
   "cell_type": "code",
   "execution_count": 151,
   "metadata": {},
   "outputs": [
    {
     "name": "stdout",
     "output_type": "stream",
     "text": [
      "       x      y\n",
      "0 -55.98  86.51\n",
      "1 -79.33 -16.42\n",
      "2 -61.37  62.34\n",
      "3  47.28  54.74\n",
      "4  24.39 -31.21\n",
      "   value\n",
      "0      1\n",
      "1     -1\n",
      "2      1\n",
      "3      1\n",
      "4     -1\n"
     ]
    }
   ],
   "source": [
    "train_x=train[[\"x\",\"y\"]]\n",
    "print(train_x.head())\n",
    "train_y=train[[\"value\"]]\n",
    "print(train_y.head())"
   ]
  },
  {
   "cell_type": "code",
   "execution_count": 152,
   "metadata": {},
   "outputs": [
    {
     "data": {
      "text/plain": [
       "MLPClassifier(alpha=0.001, hidden_layer_sizes=(5, 2), random_state=1,\n",
       "              solver='lbfgs')"
      ]
     },
     "execution_count": 152,
     "metadata": {},
     "output_type": "execute_result"
    }
   ],
   "source": [
    "clf.fit(train_x, train_y)"
   ]
  },
  {
   "cell_type": "code",
   "execution_count": 153,
   "metadata": {},
   "outputs": [],
   "source": [
    "test_x=first_test[[\"x\",\"y\"]]\n",
    "test_y=first_test[[\"value\"]]"
   ]
  },
  {
   "cell_type": "code",
   "execution_count": 154,
   "metadata": {},
   "outputs": [
    {
     "data": {
      "text/html": [
       "<div>\n",
       "<style scoped>\n",
       "    .dataframe tbody tr th:only-of-type {\n",
       "        vertical-align: middle;\n",
       "    }\n",
       "\n",
       "    .dataframe tbody tr th {\n",
       "        vertical-align: top;\n",
       "    }\n",
       "\n",
       "    .dataframe thead th {\n",
       "        text-align: right;\n",
       "    }\n",
       "</style>\n",
       "<table border=\"1\" class=\"dataframe\">\n",
       "  <thead>\n",
       "    <tr style=\"text-align: right;\">\n",
       "      <th></th>\n",
       "      <th>x</th>\n",
       "      <th>y</th>\n",
       "      <th>value</th>\n",
       "      <th>pred</th>\n",
       "    </tr>\n",
       "  </thead>\n",
       "  <tbody>\n",
       "    <tr>\n",
       "      <th>0</th>\n",
       "      <td>51.71</td>\n",
       "      <td>22.32</td>\n",
       "      <td>1</td>\n",
       "      <td>1</td>\n",
       "    </tr>\n",
       "    <tr>\n",
       "      <th>1</th>\n",
       "      <td>-12.47</td>\n",
       "      <td>-54.61</td>\n",
       "      <td>-1</td>\n",
       "      <td>-1</td>\n",
       "    </tr>\n",
       "    <tr>\n",
       "      <th>2</th>\n",
       "      <td>-39.01</td>\n",
       "      <td>-97.90</td>\n",
       "      <td>-1</td>\n",
       "      <td>-1</td>\n",
       "    </tr>\n",
       "    <tr>\n",
       "      <th>3</th>\n",
       "      <td>10.86</td>\n",
       "      <td>64.75</td>\n",
       "      <td>1</td>\n",
       "      <td>1</td>\n",
       "    </tr>\n",
       "    <tr>\n",
       "      <th>4</th>\n",
       "      <td>51.95</td>\n",
       "      <td>98.14</td>\n",
       "      <td>1</td>\n",
       "      <td>1</td>\n",
       "    </tr>\n",
       "  </tbody>\n",
       "</table>\n",
       "</div>"
      ],
      "text/plain": [
       "       x      y  value  pred\n",
       "0  51.71  22.32      1     1\n",
       "1 -12.47 -54.61     -1    -1\n",
       "2 -39.01 -97.90     -1    -1\n",
       "3  10.86  64.75      1     1\n",
       "4  51.95  98.14      1     1"
      ]
     },
     "execution_count": 154,
     "metadata": {},
     "output_type": "execute_result"
    }
   ],
   "source": [
    "predicted=clf.predict(test_x)\n",
    "first_test[\"pred\"]=predicted\n",
    "first_test.head()"
   ]
  },
  {
   "cell_type": "code",
   "execution_count": 155,
   "metadata": {},
   "outputs": [],
   "source": [
    "con_mat = confusion_matrix(predicted,test_y )"
   ]
  },
  {
   "cell_type": "code",
   "execution_count": 156,
   "metadata": {},
   "outputs": [
    {
     "data": {
      "image/png": "[encoded data removed]",
      "text/plain": [
       "<Figure size 432x288 with 2 Axes>"
      ]
     },
     "metadata": {
      "needs_background": "light"
     },
     "output_type": "display_data"
    }
   ],
   "source": [
    "confussion_matrix(con_mat)"
   ]
  },
  {
   "cell_type": "code",
   "execution_count": 157,
   "metadata": {},
   "outputs": [
    {
     "data": {
      "image/png": "[encoded data removed]",
      "text/plain": [
       "<Figure size 432x288 with 1 Axes>"
      ]
     },
     "metadata": {
      "needs_background": "light"
     },
     "output_type": "display_data"
    }
   ],
   "source": [
    "plotting_train(train)"
   ]
  },
  {
   "cell_type": "code",
   "execution_count": 158,
   "metadata": {},
   "outputs": [
    {
     "data": {
      "image/png": "[encoded data removed]",
      "text/plain": [
       "<Figure size 432x288 with 2 Axes>"
      ]
     },
     "metadata": {
      "needs_background": "light"
     },
     "output_type": "display_data"
    }
   ],
   "source": [
    "plotting_test(first_test)"
   ]
  },
  {
   "cell_type": "code",
   "execution_count": null,
   "metadata": {},
   "outputs": [],
   "source": []
  },
  {
   "cell_type": "code",
   "execution_count": null,
   "metadata": {},
   "outputs": [],
   "source": []
  },
  {
   "cell_type": "code",
   "execution_count": null,
   "metadata": {},
   "outputs": [],
   "source": []
  },
  {
   "cell_type": "code",
   "execution_count": null,
   "metadata": {},
   "outputs": [],
   "source": []
  },
  {
   "cell_type": "code",
   "execution_count": 159,
   "metadata": {},
   "outputs": [
    {
     "data": {
      "text/html": [
       "<div>\n",
       "<style scoped>\n",
       "    .dataframe tbody tr th:only-of-type {\n",
       "        vertical-align: middle;\n",
       "    }\n",
       "\n",
       "    .dataframe tbody tr th {\n",
       "        vertical-align: top;\n",
       "    }\n",
       "\n",
       "    .dataframe thead th {\n",
       "        text-align: right;\n",
       "    }\n",
       "</style>\n",
       "<table border=\"1\" class=\"dataframe\">\n",
       "  <thead>\n",
       "    <tr style=\"text-align: right;\">\n",
       "      <th></th>\n",
       "      <th>x</th>\n",
       "      <th>y</th>\n",
       "      <th>value</th>\n",
       "    </tr>\n",
       "  </thead>\n",
       "  <tbody>\n",
       "    <tr>\n",
       "      <th>0</th>\n",
       "      <td>-55.98</td>\n",
       "      <td>86.51</td>\n",
       "      <td>-1</td>\n",
       "    </tr>\n",
       "    <tr>\n",
       "      <th>1</th>\n",
       "      <td>-79.33</td>\n",
       "      <td>-16.42</td>\n",
       "      <td>-1</td>\n",
       "    </tr>\n",
       "    <tr>\n",
       "      <th>2</th>\n",
       "      <td>-61.37</td>\n",
       "      <td>62.34</td>\n",
       "      <td>-1</td>\n",
       "    </tr>\n",
       "    <tr>\n",
       "      <th>3</th>\n",
       "      <td>47.28</td>\n",
       "      <td>54.74</td>\n",
       "      <td>-1</td>\n",
       "    </tr>\n",
       "    <tr>\n",
       "      <th>4</th>\n",
       "      <td>24.39</td>\n",
       "      <td>-31.21</td>\n",
       "      <td>-1</td>\n",
       "    </tr>\n",
       "  </tbody>\n",
       "</table>\n",
       "</div>"
      ],
      "text/plain": [
       "       x      y  value\n",
       "0 -55.98  86.51     -1\n",
       "1 -79.33 -16.42     -1\n",
       "2 -61.37  62.34     -1\n",
       "3  47.28  54.74     -1\n",
       "4  24.39 -31.21     -1"
      ]
     },
     "execution_count": 159,
     "metadata": {},
     "output_type": "execute_result"
    }
   ],
   "source": [
    "trainb = build_data_partB(1)\n",
    "first_testb = build_data_partB(9)\n",
    "second_testb = build_data_partB(8)\n",
    "trainb.head()"
   ]
  },
  {
   "cell_type": "code",
   "execution_count": 160,
   "metadata": {},
   "outputs": [
    {
     "name": "stdout",
     "output_type": "stream",
     "text": [
      "       x      y\n",
      "0 -55.98  86.51\n",
      "1 -79.33 -16.42\n",
      "2 -61.37  62.34\n",
      "3  47.28  54.74\n",
      "4  24.39 -31.21\n",
      "   value\n",
      "0     -1\n",
      "1     -1\n",
      "2     -1\n",
      "3     -1\n",
      "4     -1\n"
     ]
    }
   ],
   "source": [
    "train_xb=trainb[[\"x\",\"y\"]]\n",
    "print(train_xb.head())\n",
    "train_yb=trainb[[\"value\"]]\n",
    "print(train_yb.head())"
   ]
  },
  {
   "cell_type": "code",
   "execution_count": 161,
   "metadata": {},
   "outputs": [
    {
     "data": {
      "text/plain": [
       "MLPClassifier(alpha=0.001, hidden_layer_sizes=(5, 2), random_state=1,\n",
       "              solver='lbfgs')"
      ]
     },
     "execution_count": 161,
     "metadata": {},
     "output_type": "execute_result"
    }
   ],
   "source": [
    "clf.fit(train_xb, train_yb)"
   ]
  },
  {
   "cell_type": "code",
   "execution_count": 162,
   "metadata": {},
   "outputs": [],
   "source": [
    "test_xb=first_testb[[\"x\",\"y\"]]\n",
    "test_yb=first_testb[[\"value\"]]"
   ]
  },
  {
   "cell_type": "code",
   "execution_count": 163,
   "metadata": {},
   "outputs": [
    {
     "data": {
      "text/html": [
       "<div>\n",
       "<style scoped>\n",
       "    .dataframe tbody tr th:only-of-type {\n",
       "        vertical-align: middle;\n",
       "    }\n",
       "\n",
       "    .dataframe tbody tr th {\n",
       "        vertical-align: top;\n",
       "    }\n",
       "\n",
       "    .dataframe thead th {\n",
       "        text-align: right;\n",
       "    }\n",
       "</style>\n",
       "<table border=\"1\" class=\"dataframe\">\n",
       "  <thead>\n",
       "    <tr style=\"text-align: right;\">\n",
       "      <th></th>\n",
       "      <th>x</th>\n",
       "      <th>y</th>\n",
       "      <th>value</th>\n",
       "      <th>pred</th>\n",
       "    </tr>\n",
       "  </thead>\n",
       "  <tbody>\n",
       "    <tr>\n",
       "      <th>0</th>\n",
       "      <td>51.71</td>\n",
       "      <td>22.32</td>\n",
       "      <td>-1</td>\n",
       "      <td>-1</td>\n",
       "    </tr>\n",
       "    <tr>\n",
       "      <th>1</th>\n",
       "      <td>-12.47</td>\n",
       "      <td>-54.61</td>\n",
       "      <td>-1</td>\n",
       "      <td>-1</td>\n",
       "    </tr>\n",
       "    <tr>\n",
       "      <th>2</th>\n",
       "      <td>-39.01</td>\n",
       "      <td>-97.90</td>\n",
       "      <td>-1</td>\n",
       "      <td>-1</td>\n",
       "    </tr>\n",
       "    <tr>\n",
       "      <th>3</th>\n",
       "      <td>10.86</td>\n",
       "      <td>64.75</td>\n",
       "      <td>-1</td>\n",
       "      <td>-1</td>\n",
       "    </tr>\n",
       "    <tr>\n",
       "      <th>4</th>\n",
       "      <td>51.95</td>\n",
       "      <td>98.14</td>\n",
       "      <td>-1</td>\n",
       "      <td>-1</td>\n",
       "    </tr>\n",
       "  </tbody>\n",
       "</table>\n",
       "</div>"
      ],
      "text/plain": [
       "       x      y  value  pred\n",
       "0  51.71  22.32     -1    -1\n",
       "1 -12.47 -54.61     -1    -1\n",
       "2 -39.01 -97.90     -1    -1\n",
       "3  10.86  64.75     -1    -1\n",
       "4  51.95  98.14     -1    -1"
      ]
     },
     "execution_count": 163,
     "metadata": {},
     "output_type": "execute_result"
    }
   ],
   "source": [
    "predictedb=clf.predict(test_xb)\n",
    "first_testb[\"pred\"]=predictedb\n",
    "first_testb.head()"
   ]
  },
  {
   "cell_type": "code",
   "execution_count": 164,
   "metadata": {},
   "outputs": [],
   "source": [
    "con_matb = confusion_matrix(predictedb,test_yb )"
   ]
  },
  {
   "cell_type": "code",
   "execution_count": 165,
   "metadata": {},
   "outputs": [
    {
     "data": {
      "image/png": "[encoded data removed]",
      "text/plain": [
       "<Figure size 432x288 with 2 Axes>"
      ]
     },
     "metadata": {
      "needs_background": "light"
     },
     "output_type": "display_data"
    }
   ],
   "source": [
    "confussion_matrix(con_matb)"
   ]
  },
  {
   "cell_type": "code",
   "execution_count": 166,
   "metadata": {},
   "outputs": [
    {
     "data": {
      "image/png": "[encoded data removed]",
      "text/plain": [
       "<Figure size 432x288 with 1 Axes>"
      ]
     },
     "metadata": {
      "needs_background": "light"
     },
     "output_type": "display_data"
    }
   ],
   "source": [
    "plotting_train(trainb)"
   ]
  },
  {
   "cell_type": "code",
   "execution_count": 167,
   "metadata": {},
   "outputs": [
    {
     "data": {
      "image/png": "[encoded data removed]",
      "text/plain": [
       "<Figure size 432x288 with 2 Axes>"
      ]
     },
     "metadata": {
      "needs_background": "light"
     },
     "output_type": "display_data"
    }
   ],
   "source": [
    "plotting_test(first_testb)"
   ]
  },
  {
   "cell_type": "code",
   "execution_count": null,
   "metadata": {},
   "outputs": [],
   "source": []
  },
  {
   "cell_type": "code",
   "execution_count": null,
   "metadata": {},
   "outputs": [],
   "source": []
  },
  {
   "cell_type": "code",
   "execution_count": null,
   "metadata": {},
   "outputs": [],
   "source": []
  },
  {
   "cell_type": "code",
   "execution_count": null,
   "metadata": {},
   "outputs": [],
   "source": []
  },
  {
   "cell_type": "code",
   "execution_count": null,
   "metadata": {},
   "outputs": [],
   "source": []
  },
  {
   "cell_type": "code",
   "execution_count": 32,
   "metadata": {},
   "outputs": [
    {
     "ename": "ModuleNotFoundError",
     "evalue": "No module named 'tensorflow'",
     "output_type": "error",
     "traceback": [
      "\u001b[1;31m---------------------------------------------------------------------------\u001b[0m",
      "\u001b[1;31mModuleNotFoundError\u001b[0m                       Traceback (most recent call last)",
      "\u001b[1;32m<ipython-input-32-d2358fb977fd>\u001b[0m in \u001b[0;36m<module>\u001b[1;34m\u001b[0m\n\u001b[1;32m----> 1\u001b[1;33m \u001b[1;32mimport\u001b[0m \u001b[0mtensorflow\u001b[0m \u001b[1;32mas\u001b[0m \u001b[0mtf\u001b[0m\u001b[1;33m\u001b[0m\u001b[1;33m\u001b[0m\u001b[0m\n\u001b[0m\u001b[0;32m      2\u001b[0m \u001b[1;33m\u001b[0m\u001b[0m\n\u001b[0;32m      3\u001b[0m \u001b[1;32mfrom\u001b[0m \u001b[0mtensorflow\u001b[0m\u001b[1;33m.\u001b[0m\u001b[0mkeras\u001b[0m \u001b[1;32mimport\u001b[0m \u001b[0mdatasets\u001b[0m\u001b[1;33m,\u001b[0m \u001b[0mlayers\u001b[0m\u001b[1;33m,\u001b[0m \u001b[0mmodels\u001b[0m\u001b[1;33m\u001b[0m\u001b[1;33m\u001b[0m\u001b[0m\n\u001b[0;32m      4\u001b[0m \u001b[1;32mimport\u001b[0m \u001b[0mmatplotlib\u001b[0m\u001b[1;33m.\u001b[0m\u001b[0mpyplot\u001b[0m \u001b[1;32mas\u001b[0m \u001b[0mplt\u001b[0m\u001b[1;33m\u001b[0m\u001b[1;33m\u001b[0m\u001b[0m\n",
      "\u001b[1;31mModuleNotFoundError\u001b[0m: No module named 'tensorflow'"
     ]
    }
   ],
   "source": [
    "import tensorflow as tf\n",
    "\n",
    "from tensorflow.keras import datasets, layers, models\n",
    "import matplotlib.pyplot as plt"
   ]
  },
  {
   "cell_type": "code",
   "execution_count": 33,
   "metadata": {},
   "outputs": [
    {
     "name": "stderr",
     "output_type": "stream",
     "text": [
      "ERROR: Could not find a version that satisfies the requirement tensorflow-gpu==2.0.0-alpha0 (from versions: 2.2.0, 2.2.1, 2.2.2, 2.2.3, 2.3.0, 2.3.1, 2.3.2, 2.3.3, 2.3.4, 2.4.0, 2.4.1, 2.4.2, 2.4.3, 2.4.4, 2.5.0, 2.5.1, 2.5.2, 2.5.3, 2.6.0, 2.6.1, 2.6.2, 2.6.3, 2.7.0rc0, 2.7.0rc1, 2.7.0, 2.7.1, 2.8.0rc0, 2.8.0rc1, 2.8.0, 2.9.0rc0, 2.9.0rc1)\n",
      "ERROR: No matching distribution found for tensorflow-gpu==2.0.0-alpha0\n"
     ]
    }
   ],
   "source": [
    "!pip install tensorflow-gpu==2.0.0-alpha0"
   ]
  },
  {
   "cell_type": "code",
   "execution_count": null,
   "metadata": {},
   "outputs": [],
   "source": []
  }
 ],
 "metadata": {
  "kernelspec": {
   "display_name": "Python 3",
   "language": "python",
   "name": "python3"
  },
  "language_info": {
   "codemirror_mode": {
    "name": "ipython",
    "version": 3
   },
   "file_extension": ".py",
   "mimetype": "text/x-python",
   "name": "python",
   "nbconvert_exporter": "python",
   "pygments_lexer": "ipython3",
   "version": "3.8.3"
  }
 },
 "nbformat": 4,
 "nbformat_minor": 4
}
