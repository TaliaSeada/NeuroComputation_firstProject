{
 "cells": [
  {
   "cell_type": "markdown",
   "metadata": {},
   "source": [
    "# Parts C and D"
   ]
  },
  {
   "cell_type": "code",
   "execution_count": 1,
   "metadata": {},
   "outputs": [],
   "source": [
    "#libraries\n",
    "import numpy as np \n",
    "import pandas as pd\n",
    "\n",
    "import random\n",
    "\n",
    "#preproccesing\n",
    "from sklearn.metrics import classification_report,f1_score\n",
    "from sklearn.metrics import confusion_matrix\n",
    "from sklearn.model_selection import train_test_split\n",
    "\n",
    "# visulization\n",
    "import matplotlib.pyplot as plt\n",
    "import seaborn as sns\n",
    "\n",
    "import warnings\n",
    "warnings.filterwarnings('ignore')"
   ]
  },
  {
   "cell_type": "markdown",
   "metadata": {},
   "source": [
    "## Feed Forward and Back Propagation"
   ]
  },
  {
   "cell_type": "code",
   "execution_count": 19,
   "metadata": {},
   "outputs": [],
   "source": [
    "class FeedForwardAndBackPropagation:\n",
    "    def __init__(self, dataSet, learning_rate, epochs):\n",
    "        self.y = dataSet[\"value\"]\n",
    "        self.X = dataSet[[\"x\",\"y\"]]\n",
    "        self.learning_rate = learning_rate\n",
    "        self.epochs = epochs\n",
    "        \n",
    "    def sigmoid(x):\n",
    "        return 1 / (1 + np.exp(-x))\n",
    " \n",
    "    def mean_squared_error(y_pred, y_true):\n",
    "        return ((y_pred - y_true)**2).sum() / (2*y_pred.size)\n",
    "\n",
    "    def accuracy(y_pred, y_true):\n",
    "        acc = y_pred.argmax(axis=1) == y_true.argmax(axis=1)\n",
    "        return acc.mean()\n",
    "    \n",
    "#     def prdict(test):\n",
    "        \n",
    "    \n",
    "    def fit(self):\n",
    "        X_train, X_test, y_train, y_test = train_test_split(self.X, self.y, test_size=20, random_state=4)\n",
    "        \n",
    "        learning_rate = self.learning_rate\n",
    "        iterations = self.epochs\n",
    "        N = y_train.size\n",
    "\n",
    "        # Input features\n",
    "        input_size = 2\n",
    "        # Hidden layers \n",
    "        hidden_size = 2\n",
    "        # Output layer\n",
    "        output_size = 2 \n",
    "        results = pd.DataFrame(columns=[\"mse\", \"accuracy\"])\n",
    "        \n",
    "        # Initialize Weights\n",
    "        np.random.seed(10)\n",
    "        # Hidden layer\n",
    "        W1 = np.random.normal(scale=0.5, size=(input_size, hidden_size))   \n",
    "        # Output layer\n",
    "        W2 = np.random.normal(scale=0.5, size=(hidden_size , output_size)) \n",
    "        \n",
    "        # Model\n",
    "        for itr in range(iterations):         \n",
    "            # Implementing feedforward propagation on hidden layer\n",
    "            Z1 = np.dot(X_train, W1)\n",
    "            A1 = self.sigmoid(Z1)\n",
    "\n",
    "            # Implementing feed forward propagation on output layer\n",
    "            Z2 = np.dot(A1, W2)\n",
    "            A2 = self.sigmoid(Z2)\n",
    "\n",
    "\n",
    "            # Calculating the error\n",
    "            mse = self.mean_squared_error(A2, y_train)\n",
    "            acc = self.accuracy(A2, y_train)\n",
    "            results=results.append({\"mse\":mse, \"accuracy\":acc},ignore_index=True )\n",
    "\n",
    "            # Backpropagation phase\n",
    "            E1 = A2 - y_train\n",
    "            dW1 = E1 * A2 * (1 - A2)\n",
    "\n",
    "            E2 = np.dot(dW1, W2.T)\n",
    "            dW2 = E2 * A1 * (1 - A1)\n",
    "\n",
    "\n",
    "            # Updating the weights\n",
    "            W2_update = np.dot(A1.T, dW1) / N\n",
    "            W1_update = np.dot(X_train.T, dW2) / N\n",
    "\n",
    "            W2 = W2 - learning_rate * W2_update\n",
    "            W1 = W1 - learning_rate * W1_update\n",
    "            \n",
    "            \n",
    "        results.mse.plot(title=\"Mean Squared Error\")\n",
    "        results.accuracy.plot(title=\"Accuracy\")\n",
    "        Z1 = np.dot(X_test, W1)\n",
    "        A1 = self.sigmoid(Z1)\n",
    "\n",
    "        Z2 = np.dot(A1, W2)\n",
    "        A2 = self.sigmoid(Z2)\n",
    "\n",
    "        acc = accuracy(A2, y_test)\n",
    "        print(\"Accuracy: {}\".format(acc))\n",
    "        \n"
   ]
  },
  {
   "cell_type": "markdown",
   "metadata": {},
   "source": [
    "<b> main: </b>"
   ]
  },
  {
   "cell_type": "code",
   "execution_count": 20,
   "metadata": {},
   "outputs": [],
   "source": [
    "# this function builds the data set for part A of the assighnment\n",
    "def build_data_partA(i):\n",
    "    x = []\n",
    "    y = []\n",
    "    value = []\n",
    "    random.seed(i)\n",
    "    for i in range(1000):\n",
    "        # generate two random numbers between -10000 to 10000\n",
    "        randX = random.randint(-10000, 10000)\n",
    "        randY = random.randint(-10000, 10000)\n",
    "        x.append(randX / 100)\n",
    "        y.append(randY / 100)\n",
    "        # for part A if y > 1 then the value is 1\n",
    "        if y[i] > 1:\n",
    "            value.append(1)\n",
    "        # else the value is -1\n",
    "        else:\n",
    "            value.append(-1)\n",
    "\n",
    "    # make the data frame\n",
    "    end = {'x': x, 'y': y, 'value': value}\n",
    "    df = pd.DataFrame(data=end, columns=['x', 'y', 'value'])\n",
    "    return df"
   ]
  },
  {
   "cell_type": "code",
   "execution_count": 21,
   "metadata": {},
   "outputs": [],
   "source": [
    "# this function builds the data set for part B of the assighnment\n",
    "def build_data_partB(i):\n",
    "    x = []\n",
    "    y = []\n",
    "    value = []\n",
    "    random.seed(i)\n",
    "    for i in range(1000):\n",
    "        # generate two random numbers between -10000 to 10000\n",
    "        randX = random.randint(-10000, 10000)\n",
    "        randY = random.randint(-10000, 10000)\n",
    "        x.append(randX / 100)\n",
    "        y.append(randY / 100)\n",
    "        # for part A if (4 <= y^2 + x^2 <= 9) then the value is 1\n",
    "        if 4 <= (y[i] ** 2 + x[i] ** 2) <= 9:\n",
    "            value.append(1)\n",
    "        # else the value is -1\n",
    "        else:\n",
    "            value.append(-1)\n",
    "\n",
    "    # make the data frame\n",
    "    end = {'x': x, 'y': y, 'value': value}\n",
    "    df = pd.DataFrame(data=end, columns=['x', 'y', 'value'])\n",
    "    return df"
   ]
  },
  {
   "cell_type": "code",
   "execution_count": 22,
   "metadata": {},
   "outputs": [],
   "source": [
    "# this function plots the values of the actual values of the data compared to the prediction values we predicted\n",
    "def plotting(test):\n",
    "    f, ax = plt.subplots(1, 2)\n",
    "    ax[0].set_title(\"value\")\n",
    "    ax[1].set_title(\"predict\")\n",
    "\n",
    "    for index, row in test.iterrows():\n",
    "        if row['value'] == 1:\n",
    "            ax[0].plot(row['x'], row['y'], markersize=2, marker=\"o\", color=\"blue\")\n",
    "        else:\n",
    "            ax[0].plot(row['x'], row['y'], markersize=2, marker=\"o\", color=\"red\")\n",
    "        if row['predict'] == 1:\n",
    "            ax[1].plot(row['x'], row['y'], markersize=2, marker=\"o\", color=\"blue\")\n",
    "        else:\n",
    "            ax[1].plot(row['x'], row['y'], markersize=2, marker=\"o\", color=\"red\")\n",
    "    plt.show()"
   ]
  },
  {
   "cell_type": "code",
   "execution_count": 23,
   "metadata": {},
   "outputs": [],
   "source": [
    "# this function plots the confussion matrix\n",
    "def confussion_matrix (cf_matrix):\n",
    "    group_names = ['true pos', 'false pos', 'false neg', 'true neg']\n",
    "    group_counts = [\"{0:0.0f}\".format(value) for value in cf_matrix.flatten()]\n",
    "    group_percentages = [\"{0:.2%}\".format(value) for value in cf_matrix.flatten()/np.sum(cf_matrix)]\n",
    "    labels = [f\"{v1}\\n{v2}\\n{v3}\" for v1, v2, v3 in zip(group_names,group_counts,group_percentages)]\n",
    "    labels = np.asarray(labels).reshape(2,2)\n",
    "    sns.heatmap(cf_matrix, annot=labels, fmt='', cmap='Blues')"
   ]
  },
  {
   "cell_type": "code",
   "execution_count": 24,
   "metadata": {},
   "outputs": [],
   "source": [
    "def part_a():\n",
    "    train = build_data_partA(1)\n",
    "    first_test = build_data_partA(9)\n",
    "    second_test = build_data_partA(8)\n",
    "    \n",
    "    print(\"first test\")\n",
    "    backProp = FeedForwardAndBackPropagation(train, 0.1, 50)\n",
    "    backProp.fit()\n",
    "    "
   ]
  },
  {
   "cell_type": "code",
   "execution_count": 25,
   "metadata": {},
   "outputs": [],
   "source": [
    "def main():\n",
    "    part_a()"
   ]
  },
  {
   "cell_type": "code",
   "execution_count": 26,
   "metadata": {},
   "outputs": [
    {
     "name": "stdout",
     "output_type": "stream",
     "text": [
      "first test\n"
     ]
    },
    {
     "ename": "TypeError",
     "evalue": "sigmoid() takes 1 positional argument but 2 were given",
     "output_type": "error",
     "traceback": [
      "\u001b[1;31m---------------------------------------------------------------------------\u001b[0m",
      "\u001b[1;31mTypeError\u001b[0m                                 Traceback (most recent call last)",
      "\u001b[1;32m<ipython-input-26-263240bbee7e>\u001b[0m in \u001b[0;36m<module>\u001b[1;34m\u001b[0m\n\u001b[1;32m----> 1\u001b[1;33m \u001b[0mmain\u001b[0m\u001b[1;33m(\u001b[0m\u001b[1;33m)\u001b[0m\u001b[1;33m\u001b[0m\u001b[1;33m\u001b[0m\u001b[0m\n\u001b[0m",
      "\u001b[1;32m<ipython-input-25-01ba2c2edcf8>\u001b[0m in \u001b[0;36mmain\u001b[1;34m()\u001b[0m\n\u001b[0;32m      1\u001b[0m \u001b[1;32mdef\u001b[0m \u001b[0mmain\u001b[0m\u001b[1;33m(\u001b[0m\u001b[1;33m)\u001b[0m\u001b[1;33m:\u001b[0m\u001b[1;33m\u001b[0m\u001b[1;33m\u001b[0m\u001b[0m\n\u001b[1;32m----> 2\u001b[1;33m     \u001b[0mpart_a\u001b[0m\u001b[1;33m(\u001b[0m\u001b[1;33m)\u001b[0m\u001b[1;33m\u001b[0m\u001b[1;33m\u001b[0m\u001b[0m\n\u001b[0m\u001b[0;32m      3\u001b[0m \u001b[1;33m\u001b[0m\u001b[0m\n",
      "\u001b[1;32m<ipython-input-24-bde87bb26c1f>\u001b[0m in \u001b[0;36mpart_a\u001b[1;34m()\u001b[0m\n\u001b[0;32m      6\u001b[0m     \u001b[0mprint\u001b[0m\u001b[1;33m(\u001b[0m\u001b[1;34m\"first test\"\u001b[0m\u001b[1;33m)\u001b[0m\u001b[1;33m\u001b[0m\u001b[1;33m\u001b[0m\u001b[0m\n\u001b[0;32m      7\u001b[0m     \u001b[0mbackProp\u001b[0m \u001b[1;33m=\u001b[0m \u001b[0mFeedForwardAndBackPropagation\u001b[0m\u001b[1;33m(\u001b[0m\u001b[0mtrain\u001b[0m\u001b[1;33m,\u001b[0m \u001b[1;36m0.1\u001b[0m\u001b[1;33m,\u001b[0m \u001b[1;36m50\u001b[0m\u001b[1;33m)\u001b[0m\u001b[1;33m\u001b[0m\u001b[1;33m\u001b[0m\u001b[0m\n\u001b[1;32m----> 8\u001b[1;33m     \u001b[0mbackProp\u001b[0m\u001b[1;33m.\u001b[0m\u001b[0mfit\u001b[0m\u001b[1;33m(\u001b[0m\u001b[1;33m)\u001b[0m\u001b[1;33m\u001b[0m\u001b[1;33m\u001b[0m\u001b[0m\n\u001b[0m\u001b[0;32m      9\u001b[0m \u001b[1;33m\u001b[0m\u001b[0m\n",
      "\u001b[1;32m<ipython-input-19-90bff7cc0d86>\u001b[0m in \u001b[0;36mfit\u001b[1;34m(self)\u001b[0m\n\u001b[0;32m     45\u001b[0m             \u001b[1;31m# Implementing feedforward propagation on hidden layer\u001b[0m\u001b[1;33m\u001b[0m\u001b[1;33m\u001b[0m\u001b[1;33m\u001b[0m\u001b[0m\n\u001b[0;32m     46\u001b[0m             \u001b[0mZ1\u001b[0m \u001b[1;33m=\u001b[0m \u001b[0mnp\u001b[0m\u001b[1;33m.\u001b[0m\u001b[0mdot\u001b[0m\u001b[1;33m(\u001b[0m\u001b[0mX_train\u001b[0m\u001b[1;33m,\u001b[0m \u001b[0mW1\u001b[0m\u001b[1;33m)\u001b[0m\u001b[1;33m\u001b[0m\u001b[1;33m\u001b[0m\u001b[0m\n\u001b[1;32m---> 47\u001b[1;33m             \u001b[0mA1\u001b[0m \u001b[1;33m=\u001b[0m \u001b[0mself\u001b[0m\u001b[1;33m.\u001b[0m\u001b[0msigmoid\u001b[0m\u001b[1;33m(\u001b[0m\u001b[0mZ1\u001b[0m\u001b[1;33m)\u001b[0m\u001b[1;33m\u001b[0m\u001b[1;33m\u001b[0m\u001b[0m\n\u001b[0m\u001b[0;32m     48\u001b[0m \u001b[1;33m\u001b[0m\u001b[0m\n\u001b[0;32m     49\u001b[0m             \u001b[1;31m# Implementing feed forward propagation on output layer\u001b[0m\u001b[1;33m\u001b[0m\u001b[1;33m\u001b[0m\u001b[1;33m\u001b[0m\u001b[0m\n",
      "\u001b[1;31mTypeError\u001b[0m: sigmoid() takes 1 positional argument but 2 were given"
     ]
    }
   ],
   "source": [
    "main()"
   ]
  },
  {
   "cell_type": "code",
   "execution_count": 35,
   "metadata": {},
   "outputs": [
    {
     "ename": "ValueError",
     "evalue": "operands could not be broadcast together with shapes (130,3) (130,) ",
     "output_type": "error",
     "traceback": [
      "\u001b[1;31m---------------------------------------------------------------------------\u001b[0m",
      "\u001b[1;31mValueError\u001b[0m                                Traceback (most recent call last)",
      "\u001b[1;32m<ipython-input-35-843ac8f7d8be>\u001b[0m in \u001b[0;36m<module>\u001b[1;34m\u001b[0m\n\u001b[0;32m     58\u001b[0m \u001b[1;33m\u001b[0m\u001b[0m\n\u001b[0;32m     59\u001b[0m     \u001b[1;31m# Calculating the error\u001b[0m\u001b[1;33m\u001b[0m\u001b[1;33m\u001b[0m\u001b[1;33m\u001b[0m\u001b[0m\n\u001b[1;32m---> 60\u001b[1;33m     \u001b[0mmse\u001b[0m \u001b[1;33m=\u001b[0m \u001b[0mmean_squared_error\u001b[0m\u001b[1;33m(\u001b[0m\u001b[0mA2\u001b[0m\u001b[1;33m,\u001b[0m \u001b[0my_train\u001b[0m\u001b[1;33m)\u001b[0m\u001b[1;33m\u001b[0m\u001b[1;33m\u001b[0m\u001b[0m\n\u001b[0m\u001b[0;32m     61\u001b[0m     \u001b[0macc\u001b[0m \u001b[1;33m=\u001b[0m \u001b[0maccuracy\u001b[0m\u001b[1;33m(\u001b[0m\u001b[0mA2\u001b[0m\u001b[1;33m,\u001b[0m \u001b[0my_train\u001b[0m\u001b[1;33m)\u001b[0m\u001b[1;33m\u001b[0m\u001b[1;33m\u001b[0m\u001b[0m\n\u001b[0;32m     62\u001b[0m     \u001b[0mresults\u001b[0m\u001b[1;33m=\u001b[0m\u001b[0mresults\u001b[0m\u001b[1;33m.\u001b[0m\u001b[0mappend\u001b[0m\u001b[1;33m(\u001b[0m\u001b[1;33m{\u001b[0m\u001b[1;34m\"mse\"\u001b[0m\u001b[1;33m:\u001b[0m\u001b[0mmse\u001b[0m\u001b[1;33m,\u001b[0m \u001b[1;34m\"accuracy\"\u001b[0m\u001b[1;33m:\u001b[0m\u001b[0macc\u001b[0m\u001b[1;33m}\u001b[0m\u001b[1;33m,\u001b[0m\u001b[0mignore_index\u001b[0m\u001b[1;33m=\u001b[0m\u001b[1;32mTrue\u001b[0m \u001b[1;33m)\u001b[0m\u001b[1;33m\u001b[0m\u001b[1;33m\u001b[0m\u001b[0m\n",
      "\u001b[1;32m<ipython-input-35-843ac8f7d8be>\u001b[0m in \u001b[0;36mmean_squared_error\u001b[1;34m(y_pred, y_true)\u001b[0m\n\u001b[0;32m     40\u001b[0m \u001b[1;33m\u001b[0m\u001b[0m\n\u001b[0;32m     41\u001b[0m \u001b[1;32mdef\u001b[0m \u001b[0mmean_squared_error\u001b[0m\u001b[1;33m(\u001b[0m\u001b[0my_pred\u001b[0m\u001b[1;33m,\u001b[0m \u001b[0my_true\u001b[0m\u001b[1;33m)\u001b[0m\u001b[1;33m:\u001b[0m\u001b[1;33m\u001b[0m\u001b[1;33m\u001b[0m\u001b[0m\n\u001b[1;32m---> 42\u001b[1;33m     \u001b[1;32mreturn\u001b[0m \u001b[1;33m(\u001b[0m\u001b[1;33m(\u001b[0m\u001b[0my_pred\u001b[0m \u001b[1;33m-\u001b[0m \u001b[0my_true\u001b[0m\u001b[1;33m)\u001b[0m\u001b[1;33m**\u001b[0m\u001b[1;36m2\u001b[0m\u001b[1;33m)\u001b[0m\u001b[1;33m.\u001b[0m\u001b[0msum\u001b[0m\u001b[1;33m(\u001b[0m\u001b[1;33m)\u001b[0m \u001b[1;33m/\u001b[0m \u001b[1;33m(\u001b[0m\u001b[1;36m2\u001b[0m\u001b[1;33m*\u001b[0m\u001b[0my_pred\u001b[0m\u001b[1;33m.\u001b[0m\u001b[0msize\u001b[0m\u001b[1;33m)\u001b[0m\u001b[1;33m\u001b[0m\u001b[1;33m\u001b[0m\u001b[0m\n\u001b[0m\u001b[0;32m     43\u001b[0m \u001b[1;33m\u001b[0m\u001b[0m\n\u001b[0;32m     44\u001b[0m \u001b[1;32mdef\u001b[0m \u001b[0maccuracy\u001b[0m\u001b[1;33m(\u001b[0m\u001b[0my_pred\u001b[0m\u001b[1;33m,\u001b[0m \u001b[0my_true\u001b[0m\u001b[1;33m)\u001b[0m\u001b[1;33m:\u001b[0m\u001b[1;33m\u001b[0m\u001b[1;33m\u001b[0m\u001b[0m\n",
      "\u001b[1;31mValueError\u001b[0m: operands could not be broadcast together with shapes (130,3) (130,) "
     ]
    }
   ],
   "source": [
    "# import numpy as np\n",
    "# import pandas as pd\n",
    "# from sklearn.datasets import load_iris\n",
    "# from sklearn.model_selection import train_test_split\n",
    "# import matplotlib.pyplot as plt\n",
    "\n",
    "# # Loading dataset\n",
    "# data = load_iris()\n",
    "# # Dividing the dataset into target variable and features\n",
    "# X=data.data\n",
    "# y=data.target\n",
    "\n",
    "# X_train, X_test, y_train, y_test = train_test_split(X, y, test_size=20, random_state=4)\n",
    "\n",
    "# learning_rate = 0.1\n",
    "# iterations = 5000\n",
    "# N = y_train.size\n",
    " \n",
    "# # Input features\n",
    "# input_size = 4\n",
    " \n",
    "# # Hidden layers \n",
    "# hidden_size = 2\n",
    " \n",
    "# # Output layer\n",
    "# output_size = 3 \n",
    " \n",
    "# results = pd.DataFrame(columns=[\"mse\", \"accuracy\"])\n",
    "\n",
    "# np.random.seed(10)\n",
    " \n",
    "# # Hidden layer\n",
    "# W1 = np.random.normal(scale=0.5, size=(input_size, hidden_size))   \n",
    " \n",
    "# # Output layer\n",
    "# W2 = np.random.normal(scale=0.5, size=(hidden_size , output_size))\n",
    "\n",
    "# def sigmoid(x):\n",
    "#     return 1 / (1 + np.exp(-x))\n",
    " \n",
    "# def mean_squared_error(y_pred, y_true):\n",
    "#     return ((y_pred - y_true)**2).sum() / (2*y_pred.size)\n",
    "     \n",
    "# def accuracy(y_pred, y_true):\n",
    "#     acc = y_pred.argmax(axis=1) == y_true.argmax(axis=1)\n",
    "#     return acc.mean()\n",
    "\n",
    "# for itr in range(iterations):    \n",
    "     \n",
    "#     # Implementing feedforward propagation on hidden layer\n",
    "#     Z1 = np.dot(X_train, W1)\n",
    "#     A1 = sigmoid(Z1)\n",
    " \n",
    "#     # Implementing feed forward propagation on output layer\n",
    "#     Z2 = np.dot(A1, W2)\n",
    "#     A2 = sigmoid(Z2)\n",
    "     \n",
    "     \n",
    "#     # Calculating the error\n",
    "#     mse = mean_squared_error(A2, y_train)\n",
    "#     acc = accuracy(A2, y_train)\n",
    "#     results=results.append({\"mse\":mse, \"accuracy\":acc},ignore_index=True )\n",
    "     \n",
    "#     # Backpropagation phase\n",
    "#     E1 = A2 - y_train\n",
    "#     dW1 = E1 * A2 * (1 - A2)\n",
    " \n",
    "#     E2 = np.dot(dW1, W2.T)\n",
    "#     dW2 = E2 * A1 * (1 - A1)\n",
    " \n",
    "     \n",
    "#     # Updating the weights\n",
    "#     W2_update = np.dot(A1.T, dW1) / N\n",
    "#     W1_update = np.dot(X_train.T, dW2) / N\n",
    " \n",
    "#     W2 = W2 - learning_rate * W2_update\n",
    "#     W1 = W1 - learning_rate * W1_update\n",
    "    \n",
    "# results.mse.plot(title=\"Mean Squared Error\")\n",
    "\n",
    "# results.accuracy.plot(title=\"Accuracy\")\n",
    "\n",
    "# Z1 = np.dot(X_test, W1)\n",
    "# A1 = sigmoid(Z1)\n",
    " \n",
    "# Z2 = np.dot(A1, W2)\n",
    "# A2 = sigmoid(Z2)\n",
    " \n",
    "# acc = accuracy(A2, y_test)\n",
    "# print(\"Accuracy: {}\".format(acc))"
   ]
  },
  {
   "cell_type": "code",
   "execution_count": null,
   "metadata": {},
   "outputs": [],
   "source": []
  },
  {
   "cell_type": "code",
   "execution_count": null,
   "metadata": {},
   "outputs": [],
   "source": []
  },
  {
   "cell_type": "code",
   "execution_count": null,
   "metadata": {},
   "outputs": [],
   "source": []
  },
  {
   "cell_type": "code",
   "execution_count": null,
   "metadata": {},
   "outputs": [],
   "source": []
  },
  {
   "cell_type": "code",
   "execution_count": null,
   "metadata": {},
   "outputs": [],
   "source": []
  },
  {
   "cell_type": "code",
   "execution_count": null,
   "metadata": {},
   "outputs": [],
   "source": []
  },
  {
   "cell_type": "code",
   "execution_count": null,
   "metadata": {},
   "outputs": [],
   "source": []
  },
  {
   "cell_type": "code",
   "execution_count": null,
   "metadata": {},
   "outputs": [],
   "source": []
  },
  {
   "cell_type": "code",
   "execution_count": null,
   "metadata": {},
   "outputs": [],
   "source": []
  },
  {
   "cell_type": "code",
   "execution_count": null,
   "metadata": {},
   "outputs": [],
   "source": []
  },
  {
   "cell_type": "code",
   "execution_count": null,
   "metadata": {},
   "outputs": [],
   "source": []
  },
  {
   "cell_type": "code",
   "execution_count": null,
   "metadata": {},
   "outputs": [],
   "source": []
  },
  {
   "cell_type": "code",
   "execution_count": null,
   "metadata": {},
   "outputs": [],
   "source": []
  },
  {
   "cell_type": "code",
   "execution_count": null,
   "metadata": {},
   "outputs": [],
   "source": []
  },
  {
   "cell_type": "code",
   "execution_count": null,
   "metadata": {},
   "outputs": [],
   "source": []
  },
  {
   "cell_type": "code",
   "execution_count": null,
   "metadata": {},
   "outputs": [],
   "source": []
  },
  {
   "cell_type": "code",
   "execution_count": null,
   "metadata": {},
   "outputs": [],
   "source": []
  }
 ],
 "metadata": {
  "kernelspec": {
   "display_name": "Python 3",
   "language": "python",
   "name": "python3"
  },
  "language_info": {
   "codemirror_mode": {
    "name": "ipython",
    "version": 3
   },
   "file_extension": ".py",
   "mimetype": "text/x-python",
   "name": "python",
   "nbconvert_exporter": "python",
   "pygments_lexer": "ipython3",
   "version": "3.8.3"
  }
 },
 "nbformat": 4,
 "nbformat_minor": 4
}
